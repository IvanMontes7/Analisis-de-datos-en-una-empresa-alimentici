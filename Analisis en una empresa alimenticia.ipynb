{
 "cells": [
  {
   "cell_type": "markdown",
   "metadata": {},
   "source": [
    "# Proyecto integral. Sprint 11"
   ]
  },
  {
   "cell_type": "markdown",
   "metadata": {},
   "source": [
    "## Descripción del proyecto \n",
    "\n",
    "Trabajas en una empresa emergente que vende productos alimenticios. Debes investigar el comportamiento del usuario para la aplicación de la empresa.\n",
    "\n",
    "Primero, estudia el embudo de ventas. Descubre cómo los usuarios y las usuarias llegan a la etapa de compra. ¿Cuántos usuarios o usuarias realmente llegan a esta etapa? ¿Cuántos se atascan en etapas anteriores? ¿Qué etapas en particular?\n",
    "\n",
    "Luego, observa los resultados de un test A/A/B. (Sigue leyendo para obtener más información sobre los test A/A/B). Al equipo de diseño le gustaría cambiar las fuentes de toda la aplicación, pero la gerencia teme que los usuarios y las usuarias piensen que el nuevo diseño es intimidante. Por ello, deciden tomar una decisión basada en los resultados de un test A/A/B.\n",
    "\n",
    "Los usuarios se dividen en tres grupos: dos grupos de control obtienen las fuentes antiguas y un grupo de prueba obtiene las nuevas. Descubre qué conjunto de fuentes produce mejores resultados.\n",
    "\n",
    "Crear dos grupos A tiene ciertas ventajas. Podemos establecer el principio de que solo confiaremos en la exactitud de nuestras pruebas cuando los dos grupos de control sean similares. Si hay diferencias significativas entre los grupos A, esto puede ayudarnos a descubrir factores que pueden estar distorsionando los resultados. La comparación de grupos de control también nos dice cuánto tiempo y datos necesitaremos cuando realicemos más tests.\n",
    "\n",
    "Utilizarás el mismo dataset para el análisis general y para el análisis A/A/B. En proyectos reales, los experimentos se llevan a cabo constantemente. El equipo de análisis estudia la calidad de una aplicación utilizando datos generales, sin prestar atención a si los usuarios y las usuarias participan en experimentos.\n"
   ]
  },
  {
   "cell_type": "markdown",
   "metadata": {},
   "source": [
    "## Descripción de los datos\n",
    "\n",
    "Cada entrada de registro es una acción de usuario o un evento.\n",
    "\n",
    "- EventName: nombre del evento.\n",
    "- DeviceIDHash: identificador de usuario unívoco.\n",
    "- EventTimestamp: hora del evento.\n",
    "- ExpId: número de experimento: 246 y 247 son los grupos de control, 248 es el grupo de prueba."
   ]
  },
  {
   "cell_type": "markdown",
   "metadata": {},
   "source": [
    "## Desarrollo "
   ]
  },
  {
   "cell_type": "markdown",
   "metadata": {},
   "source": [
    "### Paso 1. Abrir el archivo de datos y leer la información general"
   ]
  },
  {
   "cell_type": "code",
   "execution_count": 1,
   "metadata": {},
   "outputs": [],
   "source": [
    "import pandas as pd\n",
    "import numpy as np\n",
    "import seaborn as sns\n",
    "import matplotlib.pyplot as plt\n",
    "from scipy.stats import chi2_contingency"
   ]
  },
  {
   "cell_type": "code",
   "execution_count": 2,
   "metadata": {},
   "outputs": [],
   "source": [
    "data = pd.read_csv('/datasets/logs_exp_us.csv', sep = '\\t')"
   ]
  },
  {
   "cell_type": "code",
   "execution_count": 3,
   "metadata": {},
   "outputs": [
    {
     "name": "stdout",
     "output_type": "stream",
     "text": [
      "<class 'pandas.core.frame.DataFrame'>\n",
      "RangeIndex: 244126 entries, 0 to 244125\n",
      "Data columns (total 4 columns):\n",
      " #   Column          Non-Null Count   Dtype \n",
      "---  ------          --------------   ----- \n",
      " 0   EventName       244126 non-null  object\n",
      " 1   DeviceIDHash    244126 non-null  int64 \n",
      " 2   EventTimestamp  244126 non-null  int64 \n",
      " 3   ExpId           244126 non-null  int64 \n",
      "dtypes: int64(3), object(1)\n",
      "memory usage: 7.5+ MB\n"
     ]
    }
   ],
   "source": [
    "data.info()"
   ]
  },
  {
   "cell_type": "code",
   "execution_count": 4,
   "metadata": {},
   "outputs": [
    {
     "data": {
      "text/html": [
       "<div>\n",
       "<style scoped>\n",
       "    .dataframe tbody tr th:only-of-type {\n",
       "        vertical-align: middle;\n",
       "    }\n",
       "\n",
       "    .dataframe tbody tr th {\n",
       "        vertical-align: top;\n",
       "    }\n",
       "\n",
       "    .dataframe thead th {\n",
       "        text-align: right;\n",
       "    }\n",
       "</style>\n",
       "<table border=\"1\" class=\"dataframe\">\n",
       "  <thead>\n",
       "    <tr style=\"text-align: right;\">\n",
       "      <th></th>\n",
       "      <th>EventName</th>\n",
       "      <th>DeviceIDHash</th>\n",
       "      <th>EventTimestamp</th>\n",
       "      <th>ExpId</th>\n",
       "    </tr>\n",
       "  </thead>\n",
       "  <tbody>\n",
       "    <tr>\n",
       "      <th>0</th>\n",
       "      <td>MainScreenAppear</td>\n",
       "      <td>4575588528974610257</td>\n",
       "      <td>1564029816</td>\n",
       "      <td>246</td>\n",
       "    </tr>\n",
       "    <tr>\n",
       "      <th>1</th>\n",
       "      <td>MainScreenAppear</td>\n",
       "      <td>7416695313311560658</td>\n",
       "      <td>1564053102</td>\n",
       "      <td>246</td>\n",
       "    </tr>\n",
       "    <tr>\n",
       "      <th>2</th>\n",
       "      <td>PaymentScreenSuccessful</td>\n",
       "      <td>3518123091307005509</td>\n",
       "      <td>1564054127</td>\n",
       "      <td>248</td>\n",
       "    </tr>\n",
       "    <tr>\n",
       "      <th>3</th>\n",
       "      <td>CartScreenAppear</td>\n",
       "      <td>3518123091307005509</td>\n",
       "      <td>1564054127</td>\n",
       "      <td>248</td>\n",
       "    </tr>\n",
       "    <tr>\n",
       "      <th>4</th>\n",
       "      <td>PaymentScreenSuccessful</td>\n",
       "      <td>6217807653094995999</td>\n",
       "      <td>1564055322</td>\n",
       "      <td>248</td>\n",
       "    </tr>\n",
       "  </tbody>\n",
       "</table>\n",
       "</div>"
      ],
      "text/plain": [
       "                 EventName         DeviceIDHash  EventTimestamp  ExpId\n",
       "0         MainScreenAppear  4575588528974610257      1564029816    246\n",
       "1         MainScreenAppear  7416695313311560658      1564053102    246\n",
       "2  PaymentScreenSuccessful  3518123091307005509      1564054127    248\n",
       "3         CartScreenAppear  3518123091307005509      1564054127    248\n",
       "4  PaymentScreenSuccessful  6217807653094995999      1564055322    248"
      ]
     },
     "execution_count": 4,
     "metadata": {},
     "output_type": "execute_result"
    }
   ],
   "source": [
    "data.head()"
   ]
  },
  {
   "cell_type": "markdown",
   "metadata": {},
   "source": [
    "### Paso 2. Preparar los datos para el análisis\n",
    "\n",
    "- Cambia el nombre de las columnas de manera que sea conveniente para ti\n",
    "- Comprueba si hay tipos de datos y valores ausentes. Corrige los datos si es necesario\n",
    "- Agrega una columna de fecha y hora y una columna separada para las fechas"
   ]
  },
  {
   "cell_type": "code",
   "execution_count": 5,
   "metadata": {},
   "outputs": [
    {
     "name": "stdout",
     "output_type": "stream",
     "text": [
      "<class 'pandas.core.frame.DataFrame'>\n",
      "RangeIndex: 244126 entries, 0 to 244125\n",
      "Data columns (total 4 columns):\n",
      " #   Column        Non-Null Count   Dtype \n",
      "---  ------        --------------   ----- \n",
      " 0   evento        244126 non-null  object\n",
      " 1   id usuario    244126 non-null  int64 \n",
      " 2   fecha_evento  244126 non-null  int64 \n",
      " 3   experimento   244126 non-null  int64 \n",
      "dtypes: int64(3), object(1)\n",
      "memory usage: 7.5+ MB\n"
     ]
    }
   ],
   "source": [
    "data.rename(columns={\n",
    "    'EventName': 'evento',\n",
    "    'DeviceIDHash': 'id usuario',\n",
    "    'EventTimestamp': 'fecha_evento',\n",
    "    'ExpId': 'experimento'\n",
    "}, inplace=True)\n",
    "data.info()"
   ]
  },
  {
   "cell_type": "code",
   "execution_count": 6,
   "metadata": {},
   "outputs": [
    {
     "name": "stdout",
     "output_type": "stream",
     "text": [
      "Datos ausentes: \n",
      " evento          0\n",
      "id usuario      0\n",
      "fecha_evento    0\n",
      "experimento     0\n",
      "dtype: int64\n"
     ]
    }
   ],
   "source": [
    "print('Datos ausentes: \\n', data.isna().sum())"
   ]
  },
  {
   "cell_type": "code",
   "execution_count": 7,
   "metadata": {},
   "outputs": [
    {
     "name": "stdout",
     "output_type": "stream",
     "text": [
      "Datos duplicados: \n",
      " 413\n"
     ]
    }
   ],
   "source": [
    "print('Datos duplicados: \\n', data.duplicated().sum())"
   ]
  },
  {
   "cell_type": "code",
   "execution_count": 8,
   "metadata": {},
   "outputs": [
    {
     "data": {
      "text/html": [
       "<div>\n",
       "<style scoped>\n",
       "    .dataframe tbody tr th:only-of-type {\n",
       "        vertical-align: middle;\n",
       "    }\n",
       "\n",
       "    .dataframe tbody tr th {\n",
       "        vertical-align: top;\n",
       "    }\n",
       "\n",
       "    .dataframe thead th {\n",
       "        text-align: right;\n",
       "    }\n",
       "</style>\n",
       "<table border=\"1\" class=\"dataframe\">\n",
       "  <thead>\n",
       "    <tr style=\"text-align: right;\">\n",
       "      <th></th>\n",
       "      <th>evento</th>\n",
       "      <th>id usuario</th>\n",
       "      <th>fecha_evento</th>\n",
       "      <th>experimento</th>\n",
       "    </tr>\n",
       "  </thead>\n",
       "  <tbody>\n",
       "    <tr>\n",
       "      <th>0</th>\n",
       "      <td>MainScreenAppear</td>\n",
       "      <td>4575588528974610257</td>\n",
       "      <td>1564029816</td>\n",
       "      <td>246</td>\n",
       "    </tr>\n",
       "    <tr>\n",
       "      <th>1</th>\n",
       "      <td>MainScreenAppear</td>\n",
       "      <td>7416695313311560658</td>\n",
       "      <td>1564053102</td>\n",
       "      <td>246</td>\n",
       "    </tr>\n",
       "    <tr>\n",
       "      <th>2</th>\n",
       "      <td>PaymentScreenSuccessful</td>\n",
       "      <td>3518123091307005509</td>\n",
       "      <td>1564054127</td>\n",
       "      <td>248</td>\n",
       "    </tr>\n",
       "    <tr>\n",
       "      <th>3</th>\n",
       "      <td>CartScreenAppear</td>\n",
       "      <td>3518123091307005509</td>\n",
       "      <td>1564054127</td>\n",
       "      <td>248</td>\n",
       "    </tr>\n",
       "    <tr>\n",
       "      <th>4</th>\n",
       "      <td>PaymentScreenSuccessful</td>\n",
       "      <td>6217807653094995999</td>\n",
       "      <td>1564055322</td>\n",
       "      <td>248</td>\n",
       "    </tr>\n",
       "    <tr>\n",
       "      <th>...</th>\n",
       "      <td>...</td>\n",
       "      <td>...</td>\n",
       "      <td>...</td>\n",
       "      <td>...</td>\n",
       "    </tr>\n",
       "    <tr>\n",
       "      <th>244121</th>\n",
       "      <td>MainScreenAppear</td>\n",
       "      <td>4599628364049201812</td>\n",
       "      <td>1565212345</td>\n",
       "      <td>247</td>\n",
       "    </tr>\n",
       "    <tr>\n",
       "      <th>244122</th>\n",
       "      <td>MainScreenAppear</td>\n",
       "      <td>5849806612437486590</td>\n",
       "      <td>1565212439</td>\n",
       "      <td>246</td>\n",
       "    </tr>\n",
       "    <tr>\n",
       "      <th>244123</th>\n",
       "      <td>MainScreenAppear</td>\n",
       "      <td>5746969938801999050</td>\n",
       "      <td>1565212483</td>\n",
       "      <td>246</td>\n",
       "    </tr>\n",
       "    <tr>\n",
       "      <th>244124</th>\n",
       "      <td>MainScreenAppear</td>\n",
       "      <td>5746969938801999050</td>\n",
       "      <td>1565212498</td>\n",
       "      <td>246</td>\n",
       "    </tr>\n",
       "    <tr>\n",
       "      <th>244125</th>\n",
       "      <td>OffersScreenAppear</td>\n",
       "      <td>5746969938801999050</td>\n",
       "      <td>1565212517</td>\n",
       "      <td>246</td>\n",
       "    </tr>\n",
       "  </tbody>\n",
       "</table>\n",
       "<p>243713 rows × 4 columns</p>\n",
       "</div>"
      ],
      "text/plain": [
       "                         evento           id usuario  fecha_evento  \\\n",
       "0              MainScreenAppear  4575588528974610257    1564029816   \n",
       "1              MainScreenAppear  7416695313311560658    1564053102   \n",
       "2       PaymentScreenSuccessful  3518123091307005509    1564054127   \n",
       "3              CartScreenAppear  3518123091307005509    1564054127   \n",
       "4       PaymentScreenSuccessful  6217807653094995999    1564055322   \n",
       "...                         ...                  ...           ...   \n",
       "244121         MainScreenAppear  4599628364049201812    1565212345   \n",
       "244122         MainScreenAppear  5849806612437486590    1565212439   \n",
       "244123         MainScreenAppear  5746969938801999050    1565212483   \n",
       "244124         MainScreenAppear  5746969938801999050    1565212498   \n",
       "244125       OffersScreenAppear  5746969938801999050    1565212517   \n",
       "\n",
       "        experimento  \n",
       "0               246  \n",
       "1               246  \n",
       "2               248  \n",
       "3               248  \n",
       "4               248  \n",
       "...             ...  \n",
       "244121          247  \n",
       "244122          246  \n",
       "244123          246  \n",
       "244124          246  \n",
       "244125          246  \n",
       "\n",
       "[243713 rows x 4 columns]"
      ]
     },
     "execution_count": 8,
     "metadata": {},
     "output_type": "execute_result"
    }
   ],
   "source": [
    "data.drop_duplicates()"
   ]
  },
  {
   "cell_type": "code",
   "execution_count": 9,
   "metadata": {},
   "outputs": [],
   "source": [
    "data['fecha_evento'] = pd.to_datetime(data['fecha_evento'], unit='s')"
   ]
  },
  {
   "cell_type": "code",
   "execution_count": 10,
   "metadata": {},
   "outputs": [],
   "source": [
    "data['fecha'] = data['fecha_evento'].dt.date\n",
    "data['hora'] = data['fecha_evento'].dt.time"
   ]
  },
  {
   "cell_type": "code",
   "execution_count": 11,
   "metadata": {},
   "outputs": [
    {
     "data": {
      "text/html": [
       "<div>\n",
       "<style scoped>\n",
       "    .dataframe tbody tr th:only-of-type {\n",
       "        vertical-align: middle;\n",
       "    }\n",
       "\n",
       "    .dataframe tbody tr th {\n",
       "        vertical-align: top;\n",
       "    }\n",
       "\n",
       "    .dataframe thead th {\n",
       "        text-align: right;\n",
       "    }\n",
       "</style>\n",
       "<table border=\"1\" class=\"dataframe\">\n",
       "  <thead>\n",
       "    <tr style=\"text-align: right;\">\n",
       "      <th></th>\n",
       "      <th>evento</th>\n",
       "      <th>id usuario</th>\n",
       "      <th>fecha_evento</th>\n",
       "      <th>experimento</th>\n",
       "      <th>fecha</th>\n",
       "      <th>hora</th>\n",
       "    </tr>\n",
       "  </thead>\n",
       "  <tbody>\n",
       "    <tr>\n",
       "      <th>244121</th>\n",
       "      <td>MainScreenAppear</td>\n",
       "      <td>4599628364049201812</td>\n",
       "      <td>2019-08-07 21:12:25</td>\n",
       "      <td>247</td>\n",
       "      <td>2019-08-07</td>\n",
       "      <td>21:12:25</td>\n",
       "    </tr>\n",
       "    <tr>\n",
       "      <th>244122</th>\n",
       "      <td>MainScreenAppear</td>\n",
       "      <td>5849806612437486590</td>\n",
       "      <td>2019-08-07 21:13:59</td>\n",
       "      <td>246</td>\n",
       "      <td>2019-08-07</td>\n",
       "      <td>21:13:59</td>\n",
       "    </tr>\n",
       "    <tr>\n",
       "      <th>244123</th>\n",
       "      <td>MainScreenAppear</td>\n",
       "      <td>5746969938801999050</td>\n",
       "      <td>2019-08-07 21:14:43</td>\n",
       "      <td>246</td>\n",
       "      <td>2019-08-07</td>\n",
       "      <td>21:14:43</td>\n",
       "    </tr>\n",
       "    <tr>\n",
       "      <th>244124</th>\n",
       "      <td>MainScreenAppear</td>\n",
       "      <td>5746969938801999050</td>\n",
       "      <td>2019-08-07 21:14:58</td>\n",
       "      <td>246</td>\n",
       "      <td>2019-08-07</td>\n",
       "      <td>21:14:58</td>\n",
       "    </tr>\n",
       "    <tr>\n",
       "      <th>244125</th>\n",
       "      <td>OffersScreenAppear</td>\n",
       "      <td>5746969938801999050</td>\n",
       "      <td>2019-08-07 21:15:17</td>\n",
       "      <td>246</td>\n",
       "      <td>2019-08-07</td>\n",
       "      <td>21:15:17</td>\n",
       "    </tr>\n",
       "  </tbody>\n",
       "</table>\n",
       "</div>"
      ],
      "text/plain": [
       "                    evento           id usuario        fecha_evento  \\\n",
       "244121    MainScreenAppear  4599628364049201812 2019-08-07 21:12:25   \n",
       "244122    MainScreenAppear  5849806612437486590 2019-08-07 21:13:59   \n",
       "244123    MainScreenAppear  5746969938801999050 2019-08-07 21:14:43   \n",
       "244124    MainScreenAppear  5746969938801999050 2019-08-07 21:14:58   \n",
       "244125  OffersScreenAppear  5746969938801999050 2019-08-07 21:15:17   \n",
       "\n",
       "        experimento       fecha      hora  \n",
       "244121          247  2019-08-07  21:12:25  \n",
       "244122          246  2019-08-07  21:13:59  \n",
       "244123          246  2019-08-07  21:14:43  \n",
       "244124          246  2019-08-07  21:14:58  \n",
       "244125          246  2019-08-07  21:15:17  "
      ]
     },
     "execution_count": 11,
     "metadata": {},
     "output_type": "execute_result"
    }
   ],
   "source": [
    "data.tail()"
   ]
  },
  {
   "cell_type": "markdown",
   "metadata": {},
   "source": [
    "### Paso 3. Estudiar y comprobar los datos"
   ]
  },
  {
   "cell_type": "markdown",
   "metadata": {},
   "source": [
    "#### ¿Cuántos eventos hay en los registros?"
   ]
  },
  {
   "cell_type": "code",
   "execution_count": 12,
   "metadata": {},
   "outputs": [
    {
     "name": "stdout",
     "output_type": "stream",
     "text": [
      "Número de eventos únicos:  5\n"
     ]
    }
   ],
   "source": [
    "eventos = data['evento'].nunique()\n",
    "print('Número de eventos únicos: ', eventos)"
   ]
  },
  {
   "cell_type": "code",
   "execution_count": 13,
   "metadata": {},
   "outputs": [
    {
     "name": "stdout",
     "output_type": "stream",
     "text": [
      "Frecuencia de cada tipo de evento:\n",
      "MainScreenAppear           119205\n",
      "OffersScreenAppear          46825\n",
      "CartScreenAppear            42731\n",
      "PaymentScreenSuccessful     34313\n",
      "Tutorial                     1052\n",
      "Name: evento, dtype: int64\n"
     ]
    }
   ],
   "source": [
    "numero_eventos = data['evento'].value_counts()\n",
    "print(\"Frecuencia de cada tipo de evento:\")\n",
    "print(numero_eventos)"
   ]
  },
  {
   "cell_type": "markdown",
   "metadata": {},
   "source": [
    "#### ¿Cuántos usuarios y usuarias hay en los registros?"
   ]
  },
  {
   "cell_type": "code",
   "execution_count": 14,
   "metadata": {},
   "outputs": [
    {
     "name": "stdout",
     "output_type": "stream",
     "text": [
      "Número total de usuarios únicos: 7551\n"
     ]
    }
   ],
   "source": [
    "usuarios = data['id usuario'].nunique()\n",
    "print(f\"Número total de usuarios únicos: {usuarios}\")"
   ]
  },
  {
   "cell_type": "markdown",
   "metadata": {},
   "source": [
    "#### ¿Cuál es el promedio de eventos por usuario?"
   ]
  },
  {
   "cell_type": "code",
   "execution_count": 15,
   "metadata": {
    "scrolled": true
   },
   "outputs": [
    {
     "name": "stdout",
     "output_type": "stream",
     "text": [
      "promedio de eventos por usuario:\n",
      "32.33028737915508\n"
     ]
    }
   ],
   "source": [
    "total_eventos = data.shape[0]\n",
    "promedio_eventos_por_usuario = total_eventos / usuarios\n",
    "print('promedio de eventos por usuario:')\n",
    "print(promedio_eventos_por_usuario)"
   ]
  },
  {
   "cell_type": "code",
   "execution_count": 16,
   "metadata": {},
   "outputs": [
    {
     "name": "stdout",
     "output_type": "stream",
     "text": [
      "fecha mínima:  2019-07-25\n",
      "\n",
      "fecha máxima:  2019-08-07\n"
     ]
    }
   ],
   "source": [
    "#fecha mínima y máxima\n",
    "fecha_max = data['fecha'].max()\n",
    "fecha_min = data['fecha'].min()\n",
    "print('fecha mínima: ', fecha_min)\n",
    "print()\n",
    "print('fecha máxima: ', fecha_max)"
   ]
  },
  {
   "cell_type": "markdown",
   "metadata": {},
   "source": [
    "El periodo de prueba incio el 25 de julio 2019 y finalizó el 7 de agosto del mismo año, es decir, 14 días.   "
   ]
  },
  {
   "cell_type": "markdown",
   "metadata": {},
   "source": [
    "##### Traza un histograma por fecha y hora."
   ]
  },
  {
   "cell_type": "code",
   "execution_count": 17,
   "metadata": {},
   "outputs": [],
   "source": [
    "eventos_por_fecha = data['fecha_evento'].value_counts().sort_index()"
   ]
  },
  {
   "cell_type": "code",
   "execution_count": 18,
   "metadata": {},
   "outputs": [
    {
     "data": {
      "image/png": "[encoded data removed]",
      "text/plain": [
       "<Figure size 1500x500 with 1 Axes>"
      ]
     },
     "metadata": {},
     "output_type": "display_data"
    }
   ],
   "source": [
    "data['fecha'].value_counts().sort_index().plot(kind='bar', figsize=(15, 5))\n",
    "plt.title('Número de eventos por fecha', fontsize=16)\n",
    "plt.xlabel('Fecha', fontsize=12)\n",
    "plt.ylabel('Número de eventos', fontsize=12)\n",
    "plt.xticks(rotation=45)\n",
    "plt.tight_layout()\n",
    "plt.show()"
   ]
  },
  {
   "cell_type": "markdown",
   "metadata": {},
   "source": [
    "sns.barplot(x=eventos_por_fecha.index, y=eventos_por_fecha.values, color='skyblue')"
   ]
  },
  {
   "cell_type": "markdown",
   "metadata": {},
   "source": [
    "##### Encuentra el momento en el que los datos comienzan a estar completos e ignora la sección anterior. ¿Qué periodo representan realmente los datos?"
   ]
  },
  {
   "cell_type": "code",
   "execution_count": 19,
   "metadata": {},
   "outputs": [
    {
     "name": "stdout",
     "output_type": "stream",
     "text": [
      "Los datos comienzan a estar completos a partir del: 2019-07-25 04:43:36\n"
     ]
    }
   ],
   "source": [
    "threshold = eventos_por_fecha.median() * 0.5  # 50% como referencia\n",
    "complete_data_start_date = eventos_por_fecha[eventos_por_fecha > threshold].index.min()\n",
    "\n",
    "print(f\"Los datos comienzan a estar completos a partir del: {complete_data_start_date}\")"
   ]
  },
  {
   "cell_type": "code",
   "execution_count": 20,
   "metadata": {},
   "outputs": [
    {
     "name": "stdout",
     "output_type": "stream",
     "text": [
      "Periodo realmente representado por los datos: Desde 2019-07-25 04:43:36 hasta 2019-08-07 21:15:17\n"
     ]
    }
   ],
   "source": [
    "filtered_data = data[data['fecha_evento'] >= pd.to_datetime(complete_data_start_date)]\n",
    "\n",
    "# Nuevo periodo representativo\n",
    "filtered_min_date = filtered_data['fecha_evento'].min()\n",
    "filtered_max_date = filtered_data['fecha_evento'].max()\n",
    "print(f\"Periodo realmente representado por los datos: Desde {filtered_min_date} hasta {filtered_max_date}\")"
   ]
  },
  {
   "cell_type": "markdown",
   "metadata": {},
   "source": [
    "#### Asegúrate de tener usuarios y usuarias de los tres grupos experimentales."
   ]
  },
  {
   "cell_type": "code",
   "execution_count": 21,
   "metadata": {},
   "outputs": [
    {
     "name": "stdout",
     "output_type": "stream",
     "text": [
      "Número de usuarios únicos por grupo experimental:\n",
      "experimento\n",
      "246    2489\n",
      "247    2520\n",
      "248    2542\n",
      "Name: id usuario, dtype: int64\n"
     ]
    }
   ],
   "source": [
    "usuarios_por_grupo = data.groupby('experimento')['id usuario'].nunique()\n",
    "\n",
    "print(\"Número de usuarios únicos por grupo experimental:\")\n",
    "print(usuarios_por_grupo)"
   ]
  },
  {
   "cell_type": "markdown",
   "metadata": {},
   "source": [
    "### Paso 4. Estudiar el embudo de eventos"
   ]
  },
  {
   "cell_type": "markdown",
   "metadata": {},
   "source": [
    "#### Observa qué eventos hay en los registros y su frecuencia de suceso. Ordénalos por frecuencia."
   ]
  },
  {
   "cell_type": "code",
   "execution_count": 22,
   "metadata": {},
   "outputs": [
    {
     "name": "stdout",
     "output_type": "stream",
     "text": [
      "Frecuencia de eventos, ordenada de mayor a menor:\n",
      "MainScreenAppear           119205\n",
      "OffersScreenAppear          46825\n",
      "CartScreenAppear            42731\n",
      "PaymentScreenSuccessful     34313\n",
      "Tutorial                     1052\n",
      "Name: evento, dtype: int64\n"
     ]
    }
   ],
   "source": [
    "frecuencia_eventos = data['evento'].value_counts()\n",
    "\n",
    "print(\"Frecuencia de eventos, ordenada de mayor a menor:\")\n",
    "print(frecuencia_eventos)"
   ]
  },
  {
   "cell_type": "markdown",
   "metadata": {},
   "source": [
    "#### Encuentra la cantidad de usuarios y usuarias que realizaron cada una de estas acciones. Ordena los eventos por el número de usuarios y usuarias. Calcula la proporción de usuarios y usuarias que realizaron la acción al menos una vez."
   ]
  },
  {
   "cell_type": "code",
   "execution_count": 23,
   "metadata": {},
   "outputs": [],
   "source": [
    "# Contar la cantidad de usuarios únicos que realizaron cada acción\n",
    "usuarios_por_evento = data.groupby('evento')['id usuario'].nunique()"
   ]
  },
  {
   "cell_type": "code",
   "execution_count": 24,
   "metadata": {},
   "outputs": [],
   "source": [
    "# Proporción de usuarios \n",
    "total_usuarios = data['id usuario'].nunique()\n",
    "proporcion_evento = usuarios_por_evento / total_usuarios * 100"
   ]
  },
  {
   "cell_type": "code",
   "execution_count": 25,
   "metadata": {},
   "outputs": [],
   "source": [
    "# Combinar los resultados\n",
    "analisis_evento = pd.DataFrame({\n",
    "    'Usuarios': usuarios_por_evento,\n",
    "    'Proporcion (%)': proporcion_evento\n",
    "}).sort_values(by='Usuarios', ascending=False)"
   ]
  },
  {
   "cell_type": "code",
   "execution_count": 26,
   "metadata": {},
   "outputs": [
    {
     "name": "stdout",
     "output_type": "stream",
     "text": [
      "Usuarios únicos y proporción por evento:\n",
      "                         Usuarios  Proporcion (%)\n",
      "evento                                           \n",
      "MainScreenAppear             7439       98.516753\n",
      "OffersScreenAppear           4613       61.091246\n",
      "CartScreenAppear             3749       49.649053\n",
      "PaymentScreenSuccessful      3547       46.973911\n",
      "Tutorial                      847       11.217057\n"
     ]
    }
   ],
   "source": [
    "print(\"Usuarios únicos y proporción por evento:\")\n",
    "print(analisis_evento)"
   ]
  },
  {
   "cell_type": "code",
   "execution_count": 54,
   "metadata": {
    "scrolled": true
   },
   "outputs": [
    {
     "data": {
      "image/png": "[encoded data removed]",
      "text/plain": [
       "<Figure size 1500x500 with 1 Axes>"
      ]
     },
     "metadata": {},
     "output_type": "display_data"
    }
   ],
   "source": [
    "analisis_evento.plot(kind='bar', figsize=(15, 5))\n",
    "plt.title('Número de usuarios por evento', fontsize=16)\n",
    "plt.xlabel('Evento', fontsize=12)\n",
    "plt.ylabel('Número de usuarios', fontsize=12)\n",
    "plt.xticks(rotation=45)\n",
    "plt.tight_layout()\n",
    "plt.show()\n"
   ]
  },
  {
   "cell_type": "markdown",
   "metadata": {},
   "source": [
    "El evento \"MainScreenAppear\" tiene el mayor número de usuarios (7439), lo que indica que la mayoría de los usuarios interactúan con la pantalla principal de la aplicación. Esto podría considerarse como el punto de entrada clave para los usuarios.\n",
    "\n",
    "A medida que los usuarios avanzan hacia eventos más específicos como \"OffersScreenAppear,\" \"CartScreenAppear,\" y \"PaymentScreenSuccessful,\" el número de usuarios disminuye progresivamente. Esto sugiere que hay una pérdida de usuarios en cada etapa del embudo de conversión."
   ]
  },
  {
   "cell_type": "markdown",
   "metadata": {},
   "source": [
    "#### Utiliza el embudo de eventos para encontrar la proporción de usuarios y usuarias que pasan de una etapa a la siguiente. \n",
    "\n",
    "(Por ejemplo, para la secuencia de eventos A → B → C, calcula la proporción de usuarios en la etapa B a la cantidad de usuarios en la etapa A y la proporción de usuarios en la etapa C a la cantidad en la etapa B)."
   ]
  },
  {
   "cell_type": "code",
   "execution_count": 27,
   "metadata": {},
   "outputs": [],
   "source": [
    "# Orden de los eventos\n",
    "etapas_embudo = [\n",
    "    'MainScreenAppear',\n",
    "    'OffersScreenAppear',\n",
    "    'CartScreenAppear',    \n",
    "    'PaymentScreenSuccessful',\n",
    "    'Tutorial'\n",
    "]"
   ]
  },
  {
   "cell_type": "code",
   "execution_count": 28,
   "metadata": {
    "scrolled": true
   },
   "outputs": [],
   "source": [
    "# Filtrar solo los eventos del embudo\n",
    "data_embudo = data[data['evento'].isin(etapas_embudo)]"
   ]
  },
  {
   "cell_type": "code",
   "execution_count": 29,
   "metadata": {},
   "outputs": [
    {
     "name": "stdout",
     "output_type": "stream",
     "text": [
      "evento\n",
      "MainScreenAppear           7439\n",
      "OffersScreenAppear         4613\n",
      "CartScreenAppear           3749\n",
      "PaymentScreenSuccessful    3547\n",
      "Tutorial                    847\n",
      "Name: id usuario, dtype: int64\n"
     ]
    }
   ],
   "source": [
    "# Contar usuarios únicos por cada etapa del embudo\n",
    "usuarios_por_embudo = data_embudo.groupby('evento')['id usuario'].nunique().reindex(etapas_embudo)\n",
    "print(usuarios_por_embudo)"
   ]
  },
  {
   "cell_type": "code",
   "execution_count": 30,
   "metadata": {},
   "outputs": [
    {
     "name": "stdout",
     "output_type": "stream",
     "text": [
      "Análisis del embudo de eventos:\n",
      "                         Users  Conversion Rate (%)\n",
      "evento                                             \n",
      "MainScreenAppear          7439                  NaN\n",
      "OffersScreenAppear        4613            62.011023\n",
      "CartScreenAppear          3749            81.270323\n",
      "PaymentScreenSuccessful   3547            94.611897\n",
      "Tutorial                   847            23.879335\n"
     ]
    }
   ],
   "source": [
    "# Calcular la proporción de usuarios que pasan de una etapa a la siguiente\n",
    "paso_de_etapa = usuarios_por_embudo / usuarios_por_embudo.shift(1) * 100\n",
    "\n",
    "# Combinar los resultados en un DataFrame para claridad\n",
    "analisis_embudo = pd.DataFrame({\n",
    "    'Users': usuarios_por_embudo,\n",
    "    'Conversion Rate (%)': paso_de_etapa\n",
    "})\n",
    "\n",
    "# Mostrar los resultados\n",
    "print(\"Análisis del embudo de eventos:\")\n",
    "print(analisis_embudo)"
   ]
  },
  {
   "cell_type": "markdown",
   "metadata": {},
   "source": [
    "El resultado NaN nos indica que no hay datos anteriores, con los cuales calcular una proporción. ya que la primera etapa es cuando el usuario entra a la ventana principal del sitio. Es la primera etapa del embudo\n",
    "\n",
    "En la etapa que más se pierde usuarios es despues de realizar su compra solo el 23% de los usuarios que completaron su compra pasan al evento 'Tutorial'\n",
    "Y tambien se puede observar que la tasa de conversion en la primera etapa se podria mejorar. Ya que esta presentando que solo un 62 % de los usuarios que entran a la ventana principal entran a ver las ofertas\n"
   ]
  },
  {
   "cell_type": "markdown",
   "metadata": {},
   "source": [
    "#### ¿Qué porcentaje de usuarios y usuarias hace todo el viaje desde su primer evento hasta el pago?"
   ]
  },
  {
   "cell_type": "code",
   "execution_count": 31,
   "metadata": {},
   "outputs": [
    {
     "name": "stdout",
     "output_type": "stream",
     "text": [
      "Porcentaje de usuarios que completan todo el embudo: 47.68113993816373 %\n"
     ]
    }
   ],
   "source": [
    "usuarios_etapa_inicio = data[data['evento'] == 'MainScreenAppear']['id usuario'].nunique()\n",
    "usuarios_etapa_fin = data[data['evento'] == 'PaymentScreenSuccessful']['id usuario'].nunique()\n",
    "\n",
    "tasa_inicio_final_etapa =  usuarios_etapa_fin/usuarios_etapa_inicio *100\n",
    "print(f\"Porcentaje de usuarios que completan todo el embudo: {tasa_inicio_final_etapa} %\")"
   ]
  },
  {
   "cell_type": "markdown",
   "metadata": {},
   "source": [
    "Un 47% de los usuarios que ingresan al sitio realiza una compra. "
   ]
  },
  {
   "cell_type": "markdown",
   "metadata": {},
   "source": [
    "### Paso 5. Estudiar los resultados del experimento"
   ]
  },
  {
   "cell_type": "markdown",
   "metadata": {},
   "source": [
    "#### ¿Cuántos usuarios y usuarias hay en cada grupo?"
   ]
  },
  {
   "cell_type": "code",
   "execution_count": 32,
   "metadata": {},
   "outputs": [
    {
     "name": "stdout",
     "output_type": "stream",
     "text": [
      "Número de usuarios únicos por grupo experimental:\n",
      "experimento\n",
      "246    2489\n",
      "247    2520\n",
      "248    2542\n",
      "Name: id usuario, dtype: int64\n"
     ]
    }
   ],
   "source": [
    "print(\"Número de usuarios únicos por grupo experimental:\")\n",
    "print(usuarios_por_grupo)"
   ]
  },
  {
   "cell_type": "markdown",
   "metadata": {},
   "source": [
    "#### Observa si hay una diferencia estadísticamente significativa entre las muestras 246 y 247. \n",
    "\n",
    "Tenemos dos grupos de control en el test A/A, donde comprobamos nuestros mecanismos y cálculos.\n",
    "Selecciona el evento más popular. En cada uno de los grupos de control, encuentra la cantidad de usuarios y usuarias que realizaron esta acción. Encuentra su proporción. Comprueba si la diferencia entre los grupos es estadísticamente significativa. Repite el procedimiento para todos los demás eventos."
   ]
  },
  {
   "cell_type": "code",
   "execution_count": 33,
   "metadata": {},
   "outputs": [],
   "source": [
    "# Evento MainScreenAppear \n",
    "evento_por_analizar = 'MainScreenAppear'\n",
    "data_evento = data[data['evento'] == evento_por_analizar]\n",
    "# Usuarios que completaron el evento en los grupos 246 y 247\n",
    "grupo_246 = data_evento[data_evento['experimento'] == 246]['id usuario'].nunique()\n",
    "grupo_247 = data_evento[data_evento['experimento'] == 247]['id usuario'].nunique()\n",
    "#print('usuarios en el expiremento 246 del evento MainScreenAppear: ', grupo_246)\n",
    "#print('usuarios en el expiremento 247 del evento MainScreenAppear: ', grupo_247)"
   ]
  },
  {
   "cell_type": "code",
   "execution_count": 34,
   "metadata": {},
   "outputs": [],
   "source": [
    "# Total de usuarios en cada grupo\n",
    "total_usuarios_246 = data[data['experimento'] == 246]['id usuario'].nunique()\n",
    "total_usuarios_247 = data[data['experimento'] == 247]['id usuario'].nunique()\n",
    "#print('Total de usuarios en el expiremento 246: ', total_usuarios_246)\n",
    "#print('Total de usuarios en el expiremento 247: ', total_usuarios_247)"
   ]
  },
  {
   "cell_type": "code",
   "execution_count": 35,
   "metadata": {},
   "outputs": [],
   "source": [
    "# Crear la tabla de contingencia\n",
    "tabla_de_contingencia = [\n",
    "    [grupo_246, total_usuarios_246 - grupo_246],\n",
    "    [grupo_247, total_usuarios_247 - grupo_247]\n",
    "]"
   ]
  },
  {
   "cell_type": "code",
   "execution_count": 36,
   "metadata": {},
   "outputs": [],
   "source": [
    "chi2, p_value, _, _ = chi2_contingency(tabla_de_contingencia)"
   ]
  },
  {
   "cell_type": "code",
   "execution_count": 37,
   "metadata": {},
   "outputs": [
    {
     "name": "stdout",
     "output_type": "stream",
     "text": [
      "Resultados de la prueba chi-cuadrado:\n",
      "Chi2: 0.1811\n",
      "P-value: 0.6704\n"
     ]
    }
   ],
   "source": [
    "print(\"Resultados de la prueba chi-cuadrado:\")\n",
    "print(f\"Chi2: {chi2:.4f}\")\n",
    "print(f\"P-value: {p_value:.4f}\")"
   ]
  },
  {
   "cell_type": "code",
   "execution_count": 38,
   "metadata": {},
   "outputs": [
    {
     "name": "stdout",
     "output_type": "stream",
     "text": [
      "No hay una diferencia estadísticamente significativa entre los grupos 246 y 247.\n"
     ]
    }
   ],
   "source": [
    "if p_value < 0.05:\n",
    "    print(\"Hay una diferencia estadísticamente significativa entre los grupos 246 y 247.\")\n",
    "else:\n",
    "    print(\"No hay una diferencia estadísticamente significativa entre los grupos 246 y 247.\")"
   ]
  },
  {
   "cell_type": "markdown",
   "metadata": {},
   "source": [
    "#### ¿Puedes confirmar que los grupos se dividieron correctamente?"
   ]
  },
  {
   "cell_type": "code",
   "execution_count": 39,
   "metadata": {},
   "outputs": [
    {
     "name": "stdout",
     "output_type": "stream",
     "text": [
      "evento más popular:  MainScreenAppear\n"
     ]
    }
   ],
   "source": [
    "# Encontrar el evento más popular\n",
    "most_popular_event = data['evento'].value_counts().idxmax()\n",
    "print('evento más popular: ', most_popular_event)"
   ]
  },
  {
   "cell_type": "code",
   "execution_count": 40,
   "metadata": {},
   "outputs": [],
   "source": [
    "# Contar usuarios por grupo y evento\n",
    "user_counts = data.groupby(['experimento', 'evento', 'id usuario']).size().reset_index(name='count')\n",
    "user_counts = user_counts[user_counts['evento'] == most_popular_event]\n"
   ]
  },
  {
   "cell_type": "code",
   "execution_count": 41,
   "metadata": {},
   "outputs": [
    {
     "name": "stdout",
     "output_type": "stream",
     "text": [
      "       experimento            evento           id usuario  count\n",
      "1270           246  MainScreenAppear     6888746892508752      1\n",
      "1271           246  MainScreenAppear     6922444491712477     19\n",
      "1272           246  MainScreenAppear     8740973466195562      8\n",
      "1273           246  MainScreenAppear    12692216027168046      7\n",
      "1274           246  MainScreenAppear    15708180189885246     27\n",
      "...            ...               ...                  ...    ...\n",
      "17185          248  MainScreenAppear  9212420551954885212     30\n",
      "17186          248  MainScreenAppear  9212523802225607780      5\n",
      "17187          248  MainScreenAppear  9214668690707156694     10\n",
      "17188          248  MainScreenAppear  9219463515465815368     11\n",
      "17189          248  MainScreenAppear  9222603179720523844     59\n",
      "\n",
      "[7439 rows x 4 columns]\n"
     ]
    }
   ],
   "source": [
    "print(user_counts)"
   ]
  },
  {
   "cell_type": "code",
   "execution_count": 42,
   "metadata": {},
   "outputs": [],
   "source": [
    "tabla_contingencia_2 = pd.pivot_table(user_counts, values='count', index='experimento', columns='evento', aggfunc='sum')\n",
    "tabla_contingencia_2 = tabla_contingencia_2[most_popular_event]"
   ]
  },
  {
   "cell_type": "code",
   "execution_count": 43,
   "metadata": {},
   "outputs": [],
   "source": [
    "chi2, p_value, dof, expected = chi2_contingency(tabla_contingencia_2)"
   ]
  },
  {
   "cell_type": "code",
   "execution_count": 44,
   "metadata": {},
   "outputs": [
    {
     "name": "stdout",
     "output_type": "stream",
     "text": [
      "Evento más popular: MainScreenAppear\n",
      "Tabla de contingencia:\n",
      "experimento\n",
      "246    38281\n",
      "247    39710\n",
      "248    41214\n",
      "Name: MainScreenAppear, dtype: int64\n",
      "Estadístico chi-cuadrado: 0.0\n",
      "Valor p: 1.0\n"
     ]
    }
   ],
   "source": [
    "print(\"Evento más popular:\", most_popular_event)\n",
    "print(\"Tabla de contingencia:\")\n",
    "print(tabla_contingencia_2)\n",
    "print(\"Estadístico chi-cuadrado:\", chi2)\n",
    "print(\"Valor p:\", p_value)"
   ]
  },
  {
   "cell_type": "code",
   "execution_count": 45,
   "metadata": {},
   "outputs": [
    {
     "name": "stdout",
     "output_type": "stream",
     "text": [
      "La diferencia en las proporciones no es estadísticamente significativa.\n"
     ]
    }
   ],
   "source": [
    "if p_value < 0.05:\n",
    "    print(\"La diferencia en las proporciones es estadísticamente significativa.\")\n",
    "else:\n",
    "    print(\"La diferencia en las proporciones no es estadísticamente significativa.\")"
   ]
  },
  {
   "cell_type": "markdown",
   "metadata": {},
   "source": [
    "Con los resultados obtenidos: un valor p de 1.0 indica que no hay evidencia estadística para rechazar la hipótesis nula de que las proporciones de este evento son iguales en los tres grupos. Es decir, no hay diferencias significativas en la frecuencia con la que este evento ocurre en cada grupo.\n",
    "\n",
    "El hecho de que no haya diferencias significativas en la frecuencia del evento más popular podría sugerir que los grupos se dividieron de manera equitativa."
   ]
  },
  {
   "cell_type": "code",
   "execution_count": 46,
   "metadata": {},
   "outputs": [],
   "source": [
    "def analizar_eventos(data, grupo_col, evento_col, id_usuario_col):\n",
    "\n",
    "    # Identificar el evento más popular\n",
    "    evento_popular = data[evento_col].value_counts().idxmax()\n",
    "    print(f\"Evento más popular: {evento_popular}\")\n",
    "\n",
    "    # Crear un DataFrame para almacenar los resultados\n",
    "    resultados = pd.DataFrame(columns=['evento', 'grupo', 'frecuencia', 'proporcion', 'chi2', 'p_value'])\n",
    "\n",
    "    # Obtener todos los eventos únicos\n",
    "    eventos_unicos = data[evento_col].unique()\n",
    "\n",
    "    for evento in eventos_unicos:\n",
    "        # Crear una tabla de contingencia para cada evento\n",
    "        tabla_contingencia = pd.crosstab(data[grupo_col], data[evento_col] == evento)\n",
    "\n",
    "        # Calcular frecuencias y proporciones para cada grupo\n",
    "        for grupo in tabla_contingencia.index:\n",
    "            frecuencia = tabla_contingencia.loc[grupo, True]\n",
    "            proporcion = frecuencia / tabla_contingencia.loc[grupo, :].sum()\n",
    "            resultados = resultados.append({'evento': evento, 'grupo': grupo, 'frecuencia': frecuencia,\n",
    "                                            'proporcion': proporcion}, ignore_index=True)\n",
    "\n",
    "        # Prueba de chi-cuadrado\n",
    "        if tabla_contingencia.shape[0] > 1 and tabla_contingencia.shape[1] > 1:\n",
    "            chi2, p, _, _ = chi2_contingency(tabla_contingencia)\n",
    "            resultados.loc[resultados.evento == evento, ['chi2', 'p_value']] = [chi2, p]\n",
    "\n",
    "    return resultados"
   ]
  },
  {
   "cell_type": "code",
   "execution_count": 47,
   "metadata": {},
   "outputs": [
    {
     "name": "stdout",
     "output_type": "stream",
     "text": [
      "Evento más popular: MainScreenAppear\n"
     ]
    }
   ],
   "source": [
    "resultados = analizar_eventos(data, grupo_col='experimento', evento_col='evento', id_usuario_col='Id usuario')\n"
   ]
  },
  {
   "cell_type": "code",
   "execution_count": 60,
   "metadata": {
    "scrolled": false
   },
   "outputs": [
    {
     "name": "stdout",
     "output_type": "stream",
     "text": [
      "                     evento grupo       p_value\n",
      "0          MainScreenAppear   246  1.767364e-42\n",
      "1          MainScreenAppear   247  1.767364e-42\n",
      "2          MainScreenAppear   248  1.767364e-42\n",
      "3   PaymentScreenSuccessful   246  1.844052e-29\n",
      "4   PaymentScreenSuccessful   247  1.844052e-29\n",
      "5   PaymentScreenSuccessful   248  1.844052e-29\n",
      "6          CartScreenAppear   246  1.046794e-36\n",
      "7          CartScreenAppear   247  1.046794e-36\n",
      "8          CartScreenAppear   248  1.046794e-36\n",
      "9        OffersScreenAppear   246  1.181168e-07\n",
      "10       OffersScreenAppear   247  1.181168e-07\n",
      "11       OffersScreenAppear   248  1.181168e-07\n",
      "12                 Tutorial   246  3.403216e-01\n",
      "13                 Tutorial   247  3.403216e-01\n",
      "14                 Tutorial   248  3.403216e-01\n"
     ]
    }
   ],
   "source": [
    "print(resultados[['evento', 'grupo', 'p_value']])"
   ]
  },
  {
   "cell_type": "markdown",
   "metadata": {},
   "source": [
    "## Conclusiones "
   ]
  },
  {
   "cell_type": "markdown",
   "metadata": {},
   "source": [
    "Eventos con p-values bajos (< 0.05):\n",
    "- MainScreenAppear:\n",
    "\n",
    "Los valores de p (~1.77e-42) son significativamente bajos, indicando que hay una diferencia estadísticamente significativa entre el grupo experimental y los grupos de control.\n",
    "Esto sugiere que el experimento tuvo un impacto claro en la interacción de los usuarios con la pantalla principal.\n",
    "- PaymentScreenSuccessful:\n",
    "\n",
    "Los valores de p (~1.84e-29) también son muy bajos, lo que indica diferencias significativas.\n",
    "Esto es positivo, ya que implica que el experimento podría haber influido favorablemente en el éxito de los pagos.\n",
    "- CartScreenAppear:\n",
    "\n",
    "Los valores de p (~1.05e-36) muestran que las diferencias son significativas entre el grupo experimental y los grupos de control.\n",
    "Esto sugiere que el experimento impactó la interacción con la pantalla del carrito, un paso clave en el proceso de conversión.\n",
    "- OffersScreenAppear:\n",
    "\n",
    "Los valores de p (~1.18e-07) también son estadísticamente significativos, aunque no tan extremos como en los casos anteriores.\n",
    "Esto indica que el experimento influyó en el interés de los usuarios por las ofertas.\n",
    "Evento con p-value > 0.05 (no significativo):\n",
    "- Tutorial:\n",
    "El valor de p (~0.34) es alto, lo que indica que no hay diferencias estadísticamente significativas entre los grupos para este evento.\n",
    "Esto podría significar que el experimento no tuvo impacto en la participación en el tutorial, o que los usuarios simplemente no encontraron relevante esta función."
   ]
  },
  {
   "cell_type": "markdown",
   "metadata": {},
   "source": [
    "Use un nivel de significancia de 0.05 (5%), lo que significa se puede aceptar un 5% de probabilidad de rechazar erróneamente la hipótesis nula\n",
    "\n",
    "Hemos logrado identificar eventos en los que existe una diferencia estadísticamente significativa entre los grupos de control y el grupo experimental. lo que nos muestra el impacto en el comportamiento de los usuarios en relación con estos eventos específicos.\n",
    "\n",
    "Los resultados del análisis pueden tener implicaciones prácticas para el diseño de interfaces, la toma de decisiones en marketing digital o la mejora de la experiencia del usuario.\n",
    "\n",
    "Existen ligeras variaciones en la proporción de usuarios que vieron la pantalla principal en los distintos grupos. Sin embargo, estas diferencias parecen mínimas y pueden no ser estadísticamente significativas.\n",
    "\n",
    "Al igual que en la pantalla principal, existen pequeñas variaciones en la proporción de pagos exitosos entre los grupos. Las diferencias son relativamente pequeñas.\n",
    "\n",
    "La proporción de usuarios que ven el tutorial es muy baja en todos los grupos y las diferencias son insignificantes.\n",
    "\n",
    "La manipulación experimental no tuvo un impacto significativo en el comportamiento del usuario. Las proporciones de usuarios que realizaron diferentes acciones son relativamente consistentes en todos los grupos.\n",
    "\n",
    "El comportamiento del usuario parece estar impulsado por otros factores que no se capturan en estos datos, como el diseño general de la aplicación, las preferencias del usuario o factores externos."
   ]
  }
 ],
 "metadata": {
  "ExecuteTimeLog": [
   {
    "duration": 565,
    "start_time": "2024-12-09T22:45:48.829Z"
   },
   {
    "duration": 2471,
    "start_time": "2024-12-09T22:45:55.298Z"
   },
   {
    "duration": 919,
    "start_time": "2024-12-09T22:46:09.656Z"
   },
   {
    "duration": 312,
    "start_time": "2024-12-09T22:46:10.578Z"
   },
   {
    "duration": 5,
    "start_time": "2024-12-09T22:46:32.216Z"
   },
   {
    "duration": 286,
    "start_time": "2024-12-09T22:46:42.679Z"
   },
   {
    "duration": 898,
    "start_time": "2024-12-09T22:46:49.055Z"
   },
   {
    "duration": 221,
    "start_time": "2024-12-09T22:46:49.956Z"
   },
   {
    "duration": 17,
    "start_time": "2024-12-09T22:47:16.815Z"
   },
   {
    "duration": 14,
    "start_time": "2024-12-09T22:47:31.190Z"
   },
   {
    "duration": 4,
    "start_time": "2024-12-09T22:47:45.760Z"
   },
   {
    "duration": 5,
    "start_time": "2024-12-09T22:47:52.261Z"
   },
   {
    "duration": 253,
    "start_time": "2024-12-09T22:48:02.401Z"
   },
   {
    "duration": 224,
    "start_time": "2024-12-09T22:48:56.473Z"
   },
   {
    "duration": 15,
    "start_time": "2024-12-09T22:48:58.079Z"
   },
   {
    "duration": 5,
    "start_time": "2024-12-09T22:49:02.735Z"
   },
   {
    "duration": 154,
    "start_time": "2024-12-09T22:50:20.210Z"
   },
   {
    "duration": 19,
    "start_time": "2024-12-09T22:50:20.786Z"
   },
   {
    "duration": 8,
    "start_time": "2024-12-09T22:50:26.927Z"
   },
   {
    "duration": 22,
    "start_time": "2024-12-09T22:53:54.376Z"
   },
   {
    "duration": 874,
    "start_time": "2024-12-09T22:54:51.187Z"
   },
   {
    "duration": 134,
    "start_time": "2024-12-09T22:54:52.064Z"
   },
   {
    "duration": 21,
    "start_time": "2024-12-09T22:54:52.200Z"
   },
   {
    "duration": 10,
    "start_time": "2024-12-09T22:54:52.224Z"
   },
   {
    "duration": 875,
    "start_time": "2024-12-09T22:58:15.676Z"
   },
   {
    "duration": 153,
    "start_time": "2024-12-09T22:58:16.554Z"
   },
   {
    "duration": 21,
    "start_time": "2024-12-09T22:58:16.709Z"
   },
   {
    "duration": 10,
    "start_time": "2024-12-09T22:58:16.733Z"
   },
   {
    "duration": 16,
    "start_time": "2024-12-09T23:01:25.667Z"
   },
   {
    "duration": 17,
    "start_time": "2024-12-09T23:01:36.949Z"
   },
   {
    "duration": 14,
    "start_time": "2024-12-09T23:02:41.006Z"
   },
   {
    "duration": 12,
    "start_time": "2024-12-09T23:02:49.176Z"
   },
   {
    "duration": 49,
    "start_time": "2024-12-09T23:03:17.905Z"
   },
   {
    "duration": 47,
    "start_time": "2024-12-09T23:03:24.168Z"
   },
   {
    "duration": 60,
    "start_time": "2024-12-09T23:07:33.551Z"
   },
   {
    "duration": 15,
    "start_time": "2024-12-09T23:09:16.633Z"
   },
   {
    "duration": 129,
    "start_time": "2024-12-09T23:11:39.367Z"
   },
   {
    "duration": 467,
    "start_time": "2024-12-09T23:11:42.340Z"
   },
   {
    "duration": 14,
    "start_time": "2024-12-09T23:11:48.908Z"
   },
   {
    "duration": 36,
    "start_time": "2024-12-09T23:12:04.269Z"
   },
   {
    "duration": 62,
    "start_time": "2024-12-09T23:12:18.666Z"
   },
   {
    "duration": 19,
    "start_time": "2024-12-09T23:12:47.075Z"
   },
   {
    "duration": 6,
    "start_time": "2024-12-09T23:14:12.687Z"
   },
   {
    "duration": 23,
    "start_time": "2024-12-09T23:14:18.672Z"
   },
   {
    "duration": 8,
    "start_time": "2024-12-09T23:14:23.835Z"
   },
   {
    "duration": 66,
    "start_time": "2024-12-09T23:18:55.922Z"
   },
   {
    "duration": 34,
    "start_time": "2024-12-09T23:21:32.992Z"
   },
   {
    "duration": 9,
    "start_time": "2024-12-09T23:23:37.311Z"
   },
   {
    "duration": 1065,
    "start_time": "2024-12-09T23:23:45.053Z"
   },
   {
    "duration": 131,
    "start_time": "2024-12-09T23:23:46.122Z"
   },
   {
    "duration": 19,
    "start_time": "2024-12-09T23:23:46.255Z"
   },
   {
    "duration": 19,
    "start_time": "2024-12-09T23:23:46.276Z"
   },
   {
    "duration": 20,
    "start_time": "2024-12-09T23:23:46.298Z"
   },
   {
    "duration": 15,
    "start_time": "2024-12-09T23:23:46.320Z"
   },
   {
    "duration": 84,
    "start_time": "2024-12-09T23:23:46.337Z"
   },
   {
    "duration": 75,
    "start_time": "2024-12-09T23:23:46.425Z"
   },
   {
    "duration": 43,
    "start_time": "2024-12-09T23:23:46.502Z"
   },
   {
    "duration": 373,
    "start_time": "2024-12-09T23:25:27.228Z"
   },
   {
    "duration": 984,
    "start_time": "2024-12-09T23:25:41.602Z"
   },
   {
    "duration": 129,
    "start_time": "2024-12-09T23:25:42.589Z"
   },
   {
    "duration": 16,
    "start_time": "2024-12-09T23:25:42.720Z"
   },
   {
    "duration": 9,
    "start_time": "2024-12-09T23:25:42.738Z"
   },
   {
    "duration": 38,
    "start_time": "2024-12-09T23:25:42.751Z"
   },
   {
    "duration": 14,
    "start_time": "2024-12-09T23:25:42.792Z"
   },
   {
    "duration": 54,
    "start_time": "2024-12-09T23:25:42.808Z"
   },
   {
    "duration": 69,
    "start_time": "2024-12-09T23:25:42.865Z"
   },
   {
    "duration": 34,
    "start_time": "2024-12-09T23:25:42.936Z"
   },
   {
    "duration": 419,
    "start_time": "2024-12-09T23:25:42.972Z"
   },
   {
    "duration": 125,
    "start_time": "2024-12-09T23:26:04.703Z"
   },
   {
    "duration": 9,
    "start_time": "2024-12-09T23:26:13.475Z"
   },
   {
    "duration": 14,
    "start_time": "2024-12-09T23:26:51.498Z"
   },
   {
    "duration": 9,
    "start_time": "2024-12-09T23:27:02.233Z"
   },
   {
    "duration": 128,
    "start_time": "2024-12-09T23:27:04.050Z"
   },
   {
    "duration": 8,
    "start_time": "2024-12-09T23:27:04.837Z"
   },
   {
    "duration": 8,
    "start_time": "2024-12-09T23:27:14.071Z"
   },
   {
    "duration": 120,
    "start_time": "2024-12-09T23:27:15.299Z"
   },
   {
    "duration": 12,
    "start_time": "2024-12-09T23:27:16.894Z"
   },
   {
    "duration": 13,
    "start_time": "2024-12-09T23:29:06.801Z"
   },
   {
    "duration": 13,
    "start_time": "2024-12-09T23:29:38.755Z"
   },
   {
    "duration": 4,
    "start_time": "2024-12-09T23:30:56.033Z"
   },
   {
    "duration": 23,
    "start_time": "2024-12-09T23:31:11.602Z"
   },
   {
    "duration": 23,
    "start_time": "2024-12-09T23:31:35.277Z"
   },
   {
    "duration": 28,
    "start_time": "2024-12-09T23:32:28.891Z"
   },
   {
    "duration": 4,
    "start_time": "2024-12-09T23:32:40.650Z"
   },
   {
    "duration": 18,
    "start_time": "2024-12-09T23:32:47.447Z"
   },
   {
    "duration": 7,
    "start_time": "2024-12-09T23:33:50.438Z"
   },
   {
    "duration": 2541,
    "start_time": "2024-12-10T01:44:29.413Z"
   },
   {
    "duration": 147,
    "start_time": "2024-12-10T01:44:31.956Z"
   },
   {
    "duration": 16,
    "start_time": "2024-12-10T01:44:32.105Z"
   },
   {
    "duration": 9,
    "start_time": "2024-12-10T01:44:32.124Z"
   },
   {
    "duration": 16,
    "start_time": "2024-12-10T01:44:32.135Z"
   },
   {
    "duration": 11,
    "start_time": "2024-12-10T01:44:32.153Z"
   },
   {
    "duration": 72,
    "start_time": "2024-12-10T01:44:32.166Z"
   },
   {
    "duration": 52,
    "start_time": "2024-12-10T01:44:32.241Z"
   },
   {
    "duration": 42,
    "start_time": "2024-12-10T01:44:32.295Z"
   },
   {
    "duration": 112,
    "start_time": "2024-12-10T01:44:32.339Z"
   },
   {
    "duration": 8,
    "start_time": "2024-12-10T01:44:32.452Z"
   },
   {
    "duration": 23,
    "start_time": "2024-12-10T01:44:32.461Z"
   },
   {
    "duration": 33,
    "start_time": "2024-12-10T01:44:32.486Z"
   },
   {
    "duration": 7,
    "start_time": "2024-12-10T01:44:32.521Z"
   },
   {
    "duration": 215,
    "start_time": "2024-12-10T01:47:28.680Z"
   },
   {
    "duration": 2,
    "start_time": "2024-12-10T01:47:41.244Z"
   },
   {
    "duration": 3,
    "start_time": "2024-12-10T01:48:11.800Z"
   },
   {
    "duration": 22,
    "start_time": "2024-12-10T01:50:34.304Z"
   },
   {
    "duration": 7,
    "start_time": "2024-12-10T01:51:04.070Z"
   },
   {
    "duration": 26,
    "start_time": "2024-12-10T01:55:57.427Z"
   },
   {
    "duration": 11,
    "start_time": "2024-12-10T01:56:40.703Z"
   },
   {
    "duration": 9,
    "start_time": "2024-12-10T01:57:14.611Z"
   },
   {
    "duration": 109,
    "start_time": "2024-12-10T01:57:15.319Z"
   },
   {
    "duration": 10,
    "start_time": "2024-12-10T01:57:15.906Z"
   },
   {
    "duration": 6,
    "start_time": "2024-12-10T01:58:12.084Z"
   },
   {
    "duration": 23,
    "start_time": "2024-12-10T01:58:21.926Z"
   },
   {
    "duration": 808,
    "start_time": "2024-12-10T02:18:50.312Z"
   },
   {
    "duration": 105,
    "start_time": "2024-12-10T02:18:51.122Z"
   },
   {
    "duration": 16,
    "start_time": "2024-12-10T02:18:51.229Z"
   },
   {
    "duration": 7,
    "start_time": "2024-12-10T02:18:51.247Z"
   },
   {
    "duration": 14,
    "start_time": "2024-12-10T02:18:51.257Z"
   },
   {
    "duration": 11,
    "start_time": "2024-12-10T02:18:51.272Z"
   },
   {
    "duration": 67,
    "start_time": "2024-12-10T02:18:51.285Z"
   },
   {
    "duration": 59,
    "start_time": "2024-12-10T02:18:51.354Z"
   },
   {
    "duration": 8,
    "start_time": "2024-12-10T02:18:51.415Z"
   },
   {
    "duration": 143,
    "start_time": "2024-12-10T02:18:51.425Z"
   },
   {
    "duration": 9,
    "start_time": "2024-12-10T02:18:51.570Z"
   },
   {
    "duration": 34,
    "start_time": "2024-12-10T02:18:51.581Z"
   },
   {
    "duration": 21,
    "start_time": "2024-12-10T02:18:51.619Z"
   },
   {
    "duration": 9,
    "start_time": "2024-12-10T02:18:51.644Z"
   },
   {
    "duration": 6,
    "start_time": "2024-12-10T02:18:51.654Z"
   },
   {
    "duration": 49,
    "start_time": "2024-12-10T02:18:51.663Z"
   },
   {
    "duration": 2522,
    "start_time": "2024-12-10T04:09:04.570Z"
   },
   {
    "duration": 130,
    "start_time": "2024-12-10T04:09:07.095Z"
   },
   {
    "duration": 17,
    "start_time": "2024-12-10T04:09:07.227Z"
   },
   {
    "duration": 8,
    "start_time": "2024-12-10T04:09:07.246Z"
   },
   {
    "duration": 16,
    "start_time": "2024-12-10T04:09:07.256Z"
   },
   {
    "duration": 11,
    "start_time": "2024-12-10T04:09:07.273Z"
   },
   {
    "duration": 61,
    "start_time": "2024-12-10T04:09:07.285Z"
   },
   {
    "duration": 71,
    "start_time": "2024-12-10T04:09:07.348Z"
   },
   {
    "duration": 7,
    "start_time": "2024-12-10T04:09:07.421Z"
   },
   {
    "duration": 114,
    "start_time": "2024-12-10T04:09:07.430Z"
   },
   {
    "duration": 7,
    "start_time": "2024-12-10T04:09:07.546Z"
   },
   {
    "duration": 23,
    "start_time": "2024-12-10T04:09:07.555Z"
   },
   {
    "duration": 29,
    "start_time": "2024-12-10T04:09:07.579Z"
   },
   {
    "duration": 8,
    "start_time": "2024-12-10T04:09:07.611Z"
   },
   {
    "duration": 3,
    "start_time": "2024-12-10T04:09:07.621Z"
   },
   {
    "duration": 22,
    "start_time": "2024-12-10T04:09:07.626Z"
   },
   {
    "duration": 22,
    "start_time": "2024-12-10T04:10:03.481Z"
   },
   {
    "duration": 166,
    "start_time": "2024-12-10T17:37:18.712Z"
   },
   {
    "duration": 2550,
    "start_time": "2024-12-10T17:37:27.193Z"
   },
   {
    "duration": 133,
    "start_time": "2024-12-10T17:37:29.745Z"
   },
   {
    "duration": 17,
    "start_time": "2024-12-10T17:37:29.879Z"
   },
   {
    "duration": 14,
    "start_time": "2024-12-10T17:37:29.898Z"
   },
   {
    "duration": 16,
    "start_time": "2024-12-10T17:37:29.914Z"
   },
   {
    "duration": 10,
    "start_time": "2024-12-10T17:37:29.931Z"
   },
   {
    "duration": 66,
    "start_time": "2024-12-10T17:37:29.943Z"
   },
   {
    "duration": 53,
    "start_time": "2024-12-10T17:37:30.011Z"
   },
   {
    "duration": 7,
    "start_time": "2024-12-10T17:37:30.065Z"
   },
   {
    "duration": 114,
    "start_time": "2024-12-10T17:37:30.074Z"
   },
   {
    "duration": 17,
    "start_time": "2024-12-10T17:37:30.189Z"
   },
   {
    "duration": 29,
    "start_time": "2024-12-10T17:37:30.208Z"
   },
   {
    "duration": 18,
    "start_time": "2024-12-10T17:37:30.241Z"
   },
   {
    "duration": 7,
    "start_time": "2024-12-10T17:37:30.261Z"
   },
   {
    "duration": 3,
    "start_time": "2024-12-10T17:37:30.269Z"
   },
   {
    "duration": 51,
    "start_time": "2024-12-10T17:37:30.274Z"
   },
   {
    "duration": 259,
    "start_time": "2024-12-10T17:37:30.327Z"
   },
   {
    "duration": 825,
    "start_time": "2024-12-10T17:37:54.606Z"
   },
   {
    "duration": 104,
    "start_time": "2024-12-10T17:37:55.434Z"
   },
   {
    "duration": 17,
    "start_time": "2024-12-10T17:37:55.539Z"
   },
   {
    "duration": 7,
    "start_time": "2024-12-10T17:37:55.559Z"
   },
   {
    "duration": 14,
    "start_time": "2024-12-10T17:37:55.568Z"
   },
   {
    "duration": 34,
    "start_time": "2024-12-10T17:37:55.583Z"
   },
   {
    "duration": 43,
    "start_time": "2024-12-10T17:37:55.619Z"
   },
   {
    "duration": 65,
    "start_time": "2024-12-10T17:37:55.664Z"
   },
   {
    "duration": 8,
    "start_time": "2024-12-10T17:37:55.731Z"
   },
   {
    "duration": 115,
    "start_time": "2024-12-10T17:37:55.740Z"
   },
   {
    "duration": 8,
    "start_time": "2024-12-10T17:37:55.856Z"
   },
   {
    "duration": 24,
    "start_time": "2024-12-10T17:37:55.865Z"
   },
   {
    "duration": 18,
    "start_time": "2024-12-10T17:37:55.905Z"
   },
   {
    "duration": 6,
    "start_time": "2024-12-10T17:37:55.925Z"
   },
   {
    "duration": 3,
    "start_time": "2024-12-10T17:37:55.933Z"
   },
   {
    "duration": 23,
    "start_time": "2024-12-10T17:37:55.938Z"
   },
   {
    "duration": 316,
    "start_time": "2024-12-10T17:37:55.962Z"
   },
   {
    "duration": 42,
    "start_time": "2024-12-10T17:38:37.864Z"
   },
   {
    "duration": 784,
    "start_time": "2024-12-10T17:39:10.734Z"
   },
   {
    "duration": 106,
    "start_time": "2024-12-10T17:39:11.520Z"
   },
   {
    "duration": 15,
    "start_time": "2024-12-10T17:39:11.628Z"
   },
   {
    "duration": 7,
    "start_time": "2024-12-10T17:39:11.646Z"
   },
   {
    "duration": 14,
    "start_time": "2024-12-10T17:39:11.655Z"
   },
   {
    "duration": 36,
    "start_time": "2024-12-10T17:39:11.670Z"
   },
   {
    "duration": 43,
    "start_time": "2024-12-10T17:39:11.708Z"
   },
   {
    "duration": 63,
    "start_time": "2024-12-10T17:39:11.753Z"
   },
   {
    "duration": 8,
    "start_time": "2024-12-10T17:39:11.817Z"
   },
   {
    "duration": 116,
    "start_time": "2024-12-10T17:39:11.828Z"
   },
   {
    "duration": 8,
    "start_time": "2024-12-10T17:39:11.946Z"
   },
   {
    "duration": 22,
    "start_time": "2024-12-10T17:39:11.956Z"
   },
   {
    "duration": 29,
    "start_time": "2024-12-10T17:39:11.979Z"
   },
   {
    "duration": 7,
    "start_time": "2024-12-10T17:39:12.009Z"
   },
   {
    "duration": 3,
    "start_time": "2024-12-10T17:39:12.019Z"
   },
   {
    "duration": 22,
    "start_time": "2024-12-10T17:39:12.023Z"
   },
   {
    "duration": 780,
    "start_time": "2024-12-10T17:41:02.636Z"
   },
   {
    "duration": 117,
    "start_time": "2024-12-10T17:41:03.419Z"
   },
   {
    "duration": 15,
    "start_time": "2024-12-10T17:41:03.538Z"
   },
   {
    "duration": 8,
    "start_time": "2024-12-10T17:41:03.556Z"
   },
   {
    "duration": 15,
    "start_time": "2024-12-10T17:41:03.567Z"
   },
   {
    "duration": 31,
    "start_time": "2024-12-10T17:41:03.584Z"
   },
   {
    "duration": 42,
    "start_time": "2024-12-10T17:41:03.617Z"
   },
   {
    "duration": 66,
    "start_time": "2024-12-10T17:41:03.661Z"
   },
   {
    "duration": 7,
    "start_time": "2024-12-10T17:41:03.729Z"
   },
   {
    "duration": 114,
    "start_time": "2024-12-10T17:41:03.738Z"
   },
   {
    "duration": 7,
    "start_time": "2024-12-10T17:41:03.854Z"
   },
   {
    "duration": 24,
    "start_time": "2024-12-10T17:41:03.863Z"
   },
   {
    "duration": 29,
    "start_time": "2024-12-10T17:41:03.889Z"
   },
   {
    "duration": 6,
    "start_time": "2024-12-10T17:41:03.921Z"
   },
   {
    "duration": 3,
    "start_time": "2024-12-10T17:41:03.928Z"
   },
   {
    "duration": 21,
    "start_time": "2024-12-10T17:41:03.933Z"
   },
   {
    "duration": 918,
    "start_time": "2024-12-10T18:38:01.242Z"
   },
   {
    "duration": 134,
    "start_time": "2024-12-10T18:38:02.162Z"
   },
   {
    "duration": 16,
    "start_time": "2024-12-10T18:38:02.301Z"
   },
   {
    "duration": 8,
    "start_time": "2024-12-10T18:38:02.319Z"
   },
   {
    "duration": 16,
    "start_time": "2024-12-10T18:38:02.329Z"
   },
   {
    "duration": 11,
    "start_time": "2024-12-10T18:38:02.347Z"
   },
   {
    "duration": 87,
    "start_time": "2024-12-10T18:38:02.359Z"
   },
   {
    "duration": 71,
    "start_time": "2024-12-10T18:38:02.448Z"
   },
   {
    "duration": 8,
    "start_time": "2024-12-10T18:38:02.521Z"
   },
   {
    "duration": 190,
    "start_time": "2024-12-10T18:38:02.532Z"
   },
   {
    "duration": 11,
    "start_time": "2024-12-10T18:38:02.726Z"
   },
   {
    "duration": 30,
    "start_time": "2024-12-10T18:38:02.738Z"
   },
   {
    "duration": 25,
    "start_time": "2024-12-10T18:38:02.770Z"
   },
   {
    "duration": 8,
    "start_time": "2024-12-10T18:38:02.797Z"
   },
   {
    "duration": 4,
    "start_time": "2024-12-10T18:38:02.807Z"
   },
   {
    "duration": 26,
    "start_time": "2024-12-10T18:38:02.813Z"
   },
   {
    "duration": 32,
    "start_time": "2024-12-10T18:38:02.841Z"
   },
   {
    "duration": 998,
    "start_time": "2024-12-10T18:49:00.438Z"
   },
   {
    "duration": 130,
    "start_time": "2024-12-10T18:49:01.438Z"
   },
   {
    "duration": 20,
    "start_time": "2024-12-10T18:49:01.570Z"
   },
   {
    "duration": 22,
    "start_time": "2024-12-10T18:49:01.592Z"
   },
   {
    "duration": 19,
    "start_time": "2024-12-10T18:49:01.620Z"
   },
   {
    "duration": 11,
    "start_time": "2024-12-10T18:49:01.640Z"
   },
   {
    "duration": 62,
    "start_time": "2024-12-10T18:49:01.653Z"
   },
   {
    "duration": 71,
    "start_time": "2024-12-10T18:49:01.716Z"
   },
   {
    "duration": 22,
    "start_time": "2024-12-10T18:49:01.789Z"
   },
   {
    "duration": 116,
    "start_time": "2024-12-10T18:49:01.812Z"
   },
   {
    "duration": 9,
    "start_time": "2024-12-10T18:49:01.932Z"
   },
   {
    "duration": 33,
    "start_time": "2024-12-10T18:49:01.943Z"
   },
   {
    "duration": 33,
    "start_time": "2024-12-10T18:49:01.977Z"
   },
   {
    "duration": 11,
    "start_time": "2024-12-10T18:49:02.013Z"
   },
   {
    "duration": 6,
    "start_time": "2024-12-10T18:49:02.033Z"
   },
   {
    "duration": 34,
    "start_time": "2024-12-10T18:49:02.040Z"
   },
   {
    "duration": 40,
    "start_time": "2024-12-10T18:49:02.077Z"
   },
   {
    "duration": 7,
    "start_time": "2024-12-10T18:49:02.121Z"
   },
   {
    "duration": 838,
    "start_time": "2024-12-10T18:51:19.901Z"
   },
   {
    "duration": 112,
    "start_time": "2024-12-10T18:51:20.741Z"
   },
   {
    "duration": 17,
    "start_time": "2024-12-10T18:51:20.855Z"
   },
   {
    "duration": 9,
    "start_time": "2024-12-10T18:51:20.874Z"
   },
   {
    "duration": 33,
    "start_time": "2024-12-10T18:51:20.885Z"
   },
   {
    "duration": 20,
    "start_time": "2024-12-10T18:51:20.920Z"
   },
   {
    "duration": 46,
    "start_time": "2024-12-10T18:51:20.942Z"
   },
   {
    "duration": 82,
    "start_time": "2024-12-10T18:51:20.990Z"
   },
   {
    "duration": 7,
    "start_time": "2024-12-10T18:51:21.074Z"
   },
   {
    "duration": 114,
    "start_time": "2024-12-10T18:51:21.083Z"
   },
   {
    "duration": 12,
    "start_time": "2024-12-10T18:51:21.199Z"
   },
   {
    "duration": 23,
    "start_time": "2024-12-10T18:51:21.213Z"
   },
   {
    "duration": 24,
    "start_time": "2024-12-10T18:51:21.238Z"
   },
   {
    "duration": 8,
    "start_time": "2024-12-10T18:51:21.266Z"
   },
   {
    "duration": 31,
    "start_time": "2024-12-10T18:51:21.276Z"
   },
   {
    "duration": 23,
    "start_time": "2024-12-10T18:51:21.308Z"
   },
   {
    "duration": 31,
    "start_time": "2024-12-10T18:51:21.332Z"
   },
   {
    "duration": 3,
    "start_time": "2024-12-10T18:51:21.366Z"
   },
   {
    "duration": 841,
    "start_time": "2024-12-10T18:51:37.914Z"
   },
   {
    "duration": 133,
    "start_time": "2024-12-10T18:51:38.758Z"
   },
   {
    "duration": 26,
    "start_time": "2024-12-10T18:51:38.893Z"
   },
   {
    "duration": 8,
    "start_time": "2024-12-10T18:51:38.921Z"
   },
   {
    "duration": 16,
    "start_time": "2024-12-10T18:51:38.931Z"
   },
   {
    "duration": 11,
    "start_time": "2024-12-10T18:51:38.949Z"
   },
   {
    "duration": 66,
    "start_time": "2024-12-10T18:51:38.962Z"
   },
   {
    "duration": 52,
    "start_time": "2024-12-10T18:51:39.030Z"
   },
   {
    "duration": 21,
    "start_time": "2024-12-10T18:51:39.084Z"
   },
   {
    "duration": 149,
    "start_time": "2024-12-10T18:51:39.106Z"
   },
   {
    "duration": 7,
    "start_time": "2024-12-10T18:51:39.259Z"
   },
   {
    "duration": 23,
    "start_time": "2024-12-10T18:51:39.268Z"
   },
   {
    "duration": 18,
    "start_time": "2024-12-10T18:51:39.305Z"
   },
   {
    "duration": 7,
    "start_time": "2024-12-10T18:51:39.327Z"
   },
   {
    "duration": 3,
    "start_time": "2024-12-10T18:51:39.336Z"
   },
   {
    "duration": 22,
    "start_time": "2024-12-10T18:51:39.340Z"
   },
   {
    "duration": 67,
    "start_time": "2024-12-10T18:51:39.363Z"
   },
   {
    "duration": 4,
    "start_time": "2024-12-10T18:51:39.432Z"
   },
   {
    "duration": 287,
    "start_time": "2024-12-10T18:51:39.438Z"
   },
   {
    "duration": 5,
    "start_time": "2024-12-10T18:52:33.715Z"
   },
   {
    "duration": 851,
    "start_time": "2024-12-10T18:52:40.605Z"
   },
   {
    "duration": 106,
    "start_time": "2024-12-10T18:52:41.459Z"
   },
   {
    "duration": 16,
    "start_time": "2024-12-10T18:52:41.567Z"
   },
   {
    "duration": 20,
    "start_time": "2024-12-10T18:52:41.585Z"
   },
   {
    "duration": 20,
    "start_time": "2024-12-10T18:52:41.608Z"
   },
   {
    "duration": 11,
    "start_time": "2024-12-10T18:52:41.630Z"
   },
   {
    "duration": 67,
    "start_time": "2024-12-10T18:52:41.644Z"
   },
   {
    "duration": 57,
    "start_time": "2024-12-10T18:52:41.714Z"
   },
   {
    "duration": 9,
    "start_time": "2024-12-10T18:52:41.773Z"
   },
   {
    "duration": 153,
    "start_time": "2024-12-10T18:52:41.784Z"
   },
   {
    "duration": 9,
    "start_time": "2024-12-10T18:52:41.939Z"
   },
   {
    "duration": 28,
    "start_time": "2024-12-10T18:52:41.950Z"
   },
   {
    "duration": 27,
    "start_time": "2024-12-10T18:52:41.980Z"
   },
   {
    "duration": 7,
    "start_time": "2024-12-10T18:52:42.011Z"
   },
   {
    "duration": 4,
    "start_time": "2024-12-10T18:52:42.020Z"
   },
   {
    "duration": 31,
    "start_time": "2024-12-10T18:52:42.026Z"
   },
   {
    "duration": 64,
    "start_time": "2024-12-10T18:52:42.059Z"
   },
   {
    "duration": 5,
    "start_time": "2024-12-10T18:52:42.125Z"
   },
   {
    "duration": 160,
    "start_time": "2024-12-10T18:55:46.752Z"
   },
   {
    "duration": 841,
    "start_time": "2024-12-10T18:55:55.793Z"
   },
   {
    "duration": 135,
    "start_time": "2024-12-10T18:55:56.638Z"
   },
   {
    "duration": 16,
    "start_time": "2024-12-10T18:55:56.775Z"
   },
   {
    "duration": 18,
    "start_time": "2024-12-10T18:55:56.794Z"
   },
   {
    "duration": 17,
    "start_time": "2024-12-10T18:55:56.815Z"
   },
   {
    "duration": 10,
    "start_time": "2024-12-10T18:55:56.835Z"
   },
   {
    "duration": 65,
    "start_time": "2024-12-10T18:55:56.847Z"
   },
   {
    "duration": 53,
    "start_time": "2024-12-10T18:55:56.914Z"
   },
   {
    "duration": 8,
    "start_time": "2024-12-10T18:55:56.969Z"
   },
   {
    "duration": 159,
    "start_time": "2024-12-10T18:55:56.979Z"
   },
   {
    "duration": 8,
    "start_time": "2024-12-10T18:55:57.140Z"
   },
   {
    "duration": 31,
    "start_time": "2024-12-10T18:55:57.150Z"
   },
   {
    "duration": 30,
    "start_time": "2024-12-10T18:55:57.183Z"
   },
   {
    "duration": 7,
    "start_time": "2024-12-10T18:55:57.217Z"
   },
   {
    "duration": 3,
    "start_time": "2024-12-10T18:55:57.226Z"
   },
   {
    "duration": 23,
    "start_time": "2024-12-10T18:55:57.231Z"
   },
   {
    "duration": 67,
    "start_time": "2024-12-10T18:55:57.256Z"
   },
   {
    "duration": 3,
    "start_time": "2024-12-10T18:55:57.325Z"
   },
   {
    "duration": 828,
    "start_time": "2024-12-10T18:57:10.785Z"
   },
   {
    "duration": 113,
    "start_time": "2024-12-10T18:57:11.615Z"
   },
   {
    "duration": 16,
    "start_time": "2024-12-10T18:57:11.730Z"
   },
   {
    "duration": 8,
    "start_time": "2024-12-10T18:57:11.749Z"
   },
   {
    "duration": 15,
    "start_time": "2024-12-10T18:57:11.760Z"
   },
   {
    "duration": 28,
    "start_time": "2024-12-10T18:57:11.777Z"
   },
   {
    "duration": 47,
    "start_time": "2024-12-10T18:57:11.808Z"
   },
   {
    "duration": 64,
    "start_time": "2024-12-10T18:57:11.858Z"
   },
   {
    "duration": 9,
    "start_time": "2024-12-10T18:57:11.924Z"
   },
   {
    "duration": 120,
    "start_time": "2024-12-10T18:57:11.934Z"
   },
   {
    "duration": 7,
    "start_time": "2024-12-10T18:57:12.056Z"
   },
   {
    "duration": 24,
    "start_time": "2024-12-10T18:57:12.065Z"
   },
   {
    "duration": 18,
    "start_time": "2024-12-10T18:57:12.105Z"
   },
   {
    "duration": 6,
    "start_time": "2024-12-10T18:57:12.127Z"
   },
   {
    "duration": 3,
    "start_time": "2024-12-10T18:57:12.135Z"
   },
   {
    "duration": 32,
    "start_time": "2024-12-10T18:57:12.140Z"
   },
   {
    "duration": 65,
    "start_time": "2024-12-10T18:57:12.174Z"
   },
   {
    "duration": 4,
    "start_time": "2024-12-10T18:57:12.240Z"
   },
   {
    "duration": 825,
    "start_time": "2024-12-10T19:04:54.769Z"
   },
   {
    "duration": 175,
    "start_time": "2024-12-10T19:04:55.596Z"
   },
   {
    "duration": 17,
    "start_time": "2024-12-10T19:04:55.773Z"
   },
   {
    "duration": 18,
    "start_time": "2024-12-10T19:04:55.791Z"
   },
   {
    "duration": 19,
    "start_time": "2024-12-10T19:04:55.811Z"
   },
   {
    "duration": 14,
    "start_time": "2024-12-10T19:04:55.831Z"
   },
   {
    "duration": 66,
    "start_time": "2024-12-10T19:04:55.847Z"
   },
   {
    "duration": 53,
    "start_time": "2024-12-10T19:04:55.914Z"
   },
   {
    "duration": 8,
    "start_time": "2024-12-10T19:04:55.969Z"
   },
   {
    "duration": 126,
    "start_time": "2024-12-10T19:04:55.979Z"
   },
   {
    "duration": 9,
    "start_time": "2024-12-10T19:04:56.107Z"
   },
   {
    "duration": 22,
    "start_time": "2024-12-10T19:04:56.118Z"
   },
   {
    "duration": 17,
    "start_time": "2024-12-10T19:04:56.142Z"
   },
   {
    "duration": 8,
    "start_time": "2024-12-10T19:04:56.162Z"
   },
   {
    "duration": 2,
    "start_time": "2024-12-10T19:04:56.172Z"
   },
   {
    "duration": 47,
    "start_time": "2024-12-10T19:04:56.176Z"
   },
   {
    "duration": 30,
    "start_time": "2024-12-10T19:04:56.224Z"
   },
   {
    "duration": 4,
    "start_time": "2024-12-10T19:04:56.257Z"
   },
   {
    "duration": 7,
    "start_time": "2024-12-10T19:04:56.262Z"
   },
   {
    "duration": 690,
    "start_time": "2024-12-10T19:07:21.900Z"
   },
   {
    "duration": 30,
    "start_time": "2024-12-10T19:07:43.762Z"
   },
   {
    "duration": 33,
    "start_time": "2024-12-10T19:10:44.699Z"
   },
   {
    "duration": 21,
    "start_time": "2024-12-10T19:11:56.920Z"
   },
   {
    "duration": 19,
    "start_time": "2024-12-10T19:16:33.833Z"
   },
   {
    "duration": 34,
    "start_time": "2024-12-10T19:37:01.174Z"
   },
   {
    "duration": 5,
    "start_time": "2024-12-10T19:38:30.921Z"
   },
   {
    "duration": 5,
    "start_time": "2024-12-10T19:39:50.210Z"
   },
   {
    "duration": 4,
    "start_time": "2024-12-10T19:40:01.487Z"
   },
   {
    "duration": 5,
    "start_time": "2024-12-10T19:40:20.984Z"
   },
   {
    "duration": 5,
    "start_time": "2024-12-10T22:06:12.294Z"
   },
   {
    "duration": 156,
    "start_time": "2024-12-10T22:13:24.743Z"
   },
   {
    "duration": 2520,
    "start_time": "2024-12-10T22:13:40.840Z"
   },
   {
    "duration": 133,
    "start_time": "2024-12-10T22:13:43.362Z"
   },
   {
    "duration": 16,
    "start_time": "2024-12-10T22:13:43.497Z"
   },
   {
    "duration": 8,
    "start_time": "2024-12-10T22:13:43.516Z"
   },
   {
    "duration": 15,
    "start_time": "2024-12-10T22:13:43.527Z"
   },
   {
    "duration": 27,
    "start_time": "2024-12-10T22:13:43.543Z"
   },
   {
    "duration": 40,
    "start_time": "2024-12-10T22:13:43.572Z"
   },
   {
    "duration": 62,
    "start_time": "2024-12-10T22:13:43.615Z"
   },
   {
    "duration": 7,
    "start_time": "2024-12-10T22:13:43.679Z"
   },
   {
    "duration": 116,
    "start_time": "2024-12-10T22:13:43.688Z"
   },
   {
    "duration": 7,
    "start_time": "2024-12-10T22:13:43.806Z"
   },
   {
    "duration": 24,
    "start_time": "2024-12-10T22:13:43.815Z"
   },
   {
    "duration": 33,
    "start_time": "2024-12-10T22:13:43.840Z"
   },
   {
    "duration": 5,
    "start_time": "2024-12-10T22:13:43.878Z"
   },
   {
    "duration": 2,
    "start_time": "2024-12-10T22:13:43.885Z"
   },
   {
    "duration": 22,
    "start_time": "2024-12-10T22:13:43.889Z"
   },
   {
    "duration": 58,
    "start_time": "2024-12-10T22:13:43.913Z"
   },
   {
    "duration": 4,
    "start_time": "2024-12-10T22:13:43.972Z"
   },
   {
    "duration": 7,
    "start_time": "2024-12-10T22:13:43.978Z"
   },
   {
    "duration": 26,
    "start_time": "2024-12-10T22:13:43.987Z"
   },
   {
    "duration": 24,
    "start_time": "2024-12-10T22:13:44.015Z"
   },
   {
    "duration": 41,
    "start_time": "2024-12-10T22:13:44.041Z"
   },
   {
    "duration": 34,
    "start_time": "2024-12-10T22:13:44.084Z"
   },
   {
    "duration": 5,
    "start_time": "2024-12-10T22:13:44.120Z"
   },
   {
    "duration": 4,
    "start_time": "2024-12-10T22:13:44.126Z"
   },
   {
    "duration": 5,
    "start_time": "2024-12-10T22:13:44.131Z"
   },
   {
    "duration": 32,
    "start_time": "2024-12-10T22:13:44.138Z"
   },
   {
    "duration": 12,
    "start_time": "2024-12-10T22:13:44.172Z"
   },
   {
    "duration": 10,
    "start_time": "2024-12-10T22:22:22.361Z"
   },
   {
    "duration": 220,
    "start_time": "2024-12-10T22:23:00.586Z"
   },
   {
    "duration": 5,
    "start_time": "2024-12-10T22:23:36.670Z"
   },
   {
    "duration": 60,
    "start_time": "2024-12-10T22:39:05.575Z"
   },
   {
    "duration": 14,
    "start_time": "2024-12-10T22:40:48.032Z"
   },
   {
    "duration": 822,
    "start_time": "2024-12-10T22:41:16.514Z"
   },
   {
    "duration": 99,
    "start_time": "2024-12-10T22:41:17.339Z"
   },
   {
    "duration": 16,
    "start_time": "2024-12-10T22:41:17.440Z"
   },
   {
    "duration": 18,
    "start_time": "2024-12-10T22:41:17.457Z"
   },
   {
    "duration": 16,
    "start_time": "2024-12-10T22:41:17.477Z"
   },
   {
    "duration": 11,
    "start_time": "2024-12-10T22:41:17.495Z"
   },
   {
    "duration": 62,
    "start_time": "2024-12-10T22:41:17.508Z"
   },
   {
    "duration": 53,
    "start_time": "2024-12-10T22:41:17.572Z"
   },
   {
    "duration": 9,
    "start_time": "2024-12-10T22:41:17.626Z"
   },
   {
    "duration": 119,
    "start_time": "2024-12-10T22:41:17.636Z"
   },
   {
    "duration": 13,
    "start_time": "2024-12-10T22:41:17.757Z"
   },
   {
    "duration": 23,
    "start_time": "2024-12-10T22:41:17.772Z"
   },
   {
    "duration": 18,
    "start_time": "2024-12-10T22:41:17.796Z"
   },
   {
    "duration": 6,
    "start_time": "2024-12-10T22:41:17.818Z"
   },
   {
    "duration": 3,
    "start_time": "2024-12-10T22:41:17.826Z"
   },
   {
    "duration": 51,
    "start_time": "2024-12-10T22:41:17.831Z"
   },
   {
    "duration": 31,
    "start_time": "2024-12-10T22:41:17.884Z"
   },
   {
    "duration": 4,
    "start_time": "2024-12-10T22:41:17.917Z"
   },
   {
    "duration": 7,
    "start_time": "2024-12-10T22:41:17.923Z"
   },
   {
    "duration": 51,
    "start_time": "2024-12-10T22:41:17.932Z"
   },
   {
    "duration": 23,
    "start_time": "2024-12-10T22:41:17.984Z"
   },
   {
    "duration": 17,
    "start_time": "2024-12-10T22:41:18.009Z"
   },
   {
    "duration": 54,
    "start_time": "2024-12-10T22:41:18.028Z"
   },
   {
    "duration": 6,
    "start_time": "2024-12-10T22:41:18.084Z"
   },
   {
    "duration": 3,
    "start_time": "2024-12-10T22:41:18.092Z"
   },
   {
    "duration": 4,
    "start_time": "2024-12-10T22:41:18.097Z"
   },
   {
    "duration": 3,
    "start_time": "2024-12-10T22:41:18.103Z"
   },
   {
    "duration": 8,
    "start_time": "2024-12-10T22:41:18.107Z"
   },
   {
    "duration": 313,
    "start_time": "2024-12-10T22:41:18.117Z"
   },
   {
    "duration": 0,
    "start_time": "2024-12-10T22:41:18.432Z"
   },
   {
    "duration": 4,
    "start_time": "2024-12-10T22:45:15.126Z"
   },
   {
    "duration": 6,
    "start_time": "2024-12-10T22:45:16.266Z"
   },
   {
    "duration": 826,
    "start_time": "2024-12-10T22:46:46.285Z"
   },
   {
    "duration": 110,
    "start_time": "2024-12-10T22:46:47.113Z"
   },
   {
    "duration": 16,
    "start_time": "2024-12-10T22:46:47.225Z"
   },
   {
    "duration": 8,
    "start_time": "2024-12-10T22:46:47.243Z"
   },
   {
    "duration": 15,
    "start_time": "2024-12-10T22:46:47.270Z"
   },
   {
    "duration": 11,
    "start_time": "2024-12-10T22:46:47.287Z"
   },
   {
    "duration": 43,
    "start_time": "2024-12-10T22:46:47.299Z"
   },
   {
    "duration": 75,
    "start_time": "2024-12-10T22:46:47.344Z"
   },
   {
    "duration": 8,
    "start_time": "2024-12-10T22:46:47.421Z"
   },
   {
    "duration": 114,
    "start_time": "2024-12-10T22:46:47.431Z"
   },
   {
    "duration": 8,
    "start_time": "2024-12-10T22:46:47.546Z"
   },
   {
    "duration": 31,
    "start_time": "2024-12-10T22:46:47.556Z"
   },
   {
    "duration": 17,
    "start_time": "2024-12-10T22:46:47.588Z"
   },
   {
    "duration": 6,
    "start_time": "2024-12-10T22:46:47.609Z"
   },
   {
    "duration": 3,
    "start_time": "2024-12-10T22:46:47.617Z"
   },
   {
    "duration": 53,
    "start_time": "2024-12-10T22:46:47.622Z"
   },
   {
    "duration": 33,
    "start_time": "2024-12-10T22:46:47.677Z"
   },
   {
    "duration": 4,
    "start_time": "2024-12-10T22:46:47.711Z"
   },
   {
    "duration": 7,
    "start_time": "2024-12-10T22:46:47.717Z"
   },
   {
    "duration": 48,
    "start_time": "2024-12-10T22:46:47.726Z"
   },
   {
    "duration": 23,
    "start_time": "2024-12-10T22:46:47.776Z"
   },
   {
    "duration": 17,
    "start_time": "2024-12-10T22:46:47.800Z"
   },
   {
    "duration": 56,
    "start_time": "2024-12-10T22:46:47.819Z"
   },
   {
    "duration": 5,
    "start_time": "2024-12-10T22:46:47.877Z"
   },
   {
    "duration": 4,
    "start_time": "2024-12-10T22:46:47.883Z"
   },
   {
    "duration": 4,
    "start_time": "2024-12-10T22:46:47.889Z"
   },
   {
    "duration": 2,
    "start_time": "2024-12-10T22:46:47.895Z"
   },
   {
    "duration": 21,
    "start_time": "2024-12-10T22:46:47.899Z"
   },
   {
    "duration": 67,
    "start_time": "2024-12-10T22:46:47.922Z"
   },
   {
    "duration": 8,
    "start_time": "2024-12-10T22:46:47.993Z"
   },
   {
    "duration": 18,
    "start_time": "2024-12-10T22:47:15.644Z"
   },
   {
    "duration": 36,
    "start_time": "2024-12-10T22:47:18.836Z"
   },
   {
    "duration": 5,
    "start_time": "2024-12-10T22:47:19.821Z"
   },
   {
    "duration": 663,
    "start_time": "2024-12-10T23:21:49.156Z"
   },
   {
    "duration": 36,
    "start_time": "2024-12-10T23:22:20.647Z"
   },
   {
    "duration": 34,
    "start_time": "2024-12-10T23:23:05.859Z"
   },
   {
    "duration": 739,
    "start_time": "2024-12-10T23:27:42.047Z"
   },
   {
    "duration": 105,
    "start_time": "2024-12-10T23:27:42.789Z"
   },
   {
    "duration": 16,
    "start_time": "2024-12-10T23:27:42.895Z"
   },
   {
    "duration": 9,
    "start_time": "2024-12-10T23:27:42.913Z"
   },
   {
    "duration": 15,
    "start_time": "2024-12-10T23:27:42.923Z"
   },
   {
    "duration": 11,
    "start_time": "2024-12-10T23:27:42.940Z"
   },
   {
    "duration": 42,
    "start_time": "2024-12-10T23:27:42.970Z"
   },
   {
    "duration": 63,
    "start_time": "2024-12-10T23:27:43.014Z"
   },
   {
    "duration": 7,
    "start_time": "2024-12-10T23:27:43.079Z"
   },
   {
    "duration": 117,
    "start_time": "2024-12-10T23:27:43.088Z"
   },
   {
    "duration": 8,
    "start_time": "2024-12-10T23:27:43.206Z"
   },
   {
    "duration": 22,
    "start_time": "2024-12-10T23:27:43.217Z"
   },
   {
    "duration": 33,
    "start_time": "2024-12-10T23:27:43.241Z"
   },
   {
    "duration": 7,
    "start_time": "2024-12-10T23:27:43.275Z"
   },
   {
    "duration": 2,
    "start_time": "2024-12-10T23:27:43.285Z"
   },
   {
    "duration": 21,
    "start_time": "2024-12-10T23:27:43.289Z"
   },
   {
    "duration": 31,
    "start_time": "2024-12-10T23:27:43.312Z"
   },
   {
    "duration": 28,
    "start_time": "2024-12-10T23:27:43.344Z"
   },
   {
    "duration": 7,
    "start_time": "2024-12-10T23:27:43.375Z"
   },
   {
    "duration": 26,
    "start_time": "2024-12-10T23:27:43.383Z"
   },
   {
    "duration": 23,
    "start_time": "2024-12-10T23:27:43.411Z"
   },
   {
    "duration": 46,
    "start_time": "2024-12-10T23:27:43.436Z"
   },
   {
    "duration": 34,
    "start_time": "2024-12-10T23:27:43.484Z"
   },
   {
    "duration": 6,
    "start_time": "2024-12-10T23:27:43.519Z"
   },
   {
    "duration": 4,
    "start_time": "2024-12-10T23:27:43.526Z"
   },
   {
    "duration": 5,
    "start_time": "2024-12-10T23:27:43.531Z"
   },
   {
    "duration": 3,
    "start_time": "2024-12-10T23:27:43.537Z"
   },
   {
    "duration": 15,
    "start_time": "2024-12-10T23:27:43.571Z"
   },
   {
    "duration": 37,
    "start_time": "2024-12-10T23:27:43.588Z"
   },
   {
    "duration": 5,
    "start_time": "2024-12-10T23:27:43.627Z"
   },
   {
    "duration": 58,
    "start_time": "2024-12-10T23:27:43.634Z"
   },
   {
    "duration": 3,
    "start_time": "2024-12-10T23:34:29.796Z"
   },
   {
    "duration": 3,
    "start_time": "2024-12-10T23:35:03.110Z"
   },
   {
    "duration": 26,
    "start_time": "2024-12-10T23:51:32.012Z"
   },
   {
    "duration": 3,
    "start_time": "2024-12-10T23:53:45.867Z"
   },
   {
    "duration": 3,
    "start_time": "2024-12-10T23:54:02.581Z"
   },
   {
    "duration": 31,
    "start_time": "2024-12-10T23:57:27.770Z"
   },
   {
    "duration": 3,
    "start_time": "2024-12-10T23:57:28.585Z"
   },
   {
    "duration": 3,
    "start_time": "2024-12-10T23:57:29.263Z"
   },
   {
    "duration": 3,
    "start_time": "2024-12-10T23:57:30.050Z"
   },
   {
    "duration": 668,
    "start_time": "2024-12-11T00:03:31.126Z"
   },
   {
    "duration": 19,
    "start_time": "2024-12-11T00:04:08.665Z"
   },
   {
    "duration": 2,
    "start_time": "2024-12-11T00:04:52.384Z"
   },
   {
    "duration": 2,
    "start_time": "2024-12-11T00:05:00.660Z"
   },
   {
    "duration": 13,
    "start_time": "2024-12-11T00:05:09.861Z"
   },
   {
    "duration": 21,
    "start_time": "2024-12-11T00:05:28.939Z"
   },
   {
    "duration": 3,
    "start_time": "2024-12-11T00:05:29.543Z"
   },
   {
    "duration": 3,
    "start_time": "2024-12-11T00:05:29.970Z"
   },
   {
    "duration": 2,
    "start_time": "2024-12-11T00:05:30.515Z"
   },
   {
    "duration": 3,
    "start_time": "2024-12-11T00:06:04.385Z"
   },
   {
    "duration": 3,
    "start_time": "2024-12-11T00:06:28.041Z"
   },
   {
    "duration": 27,
    "start_time": "2024-12-11T00:06:54.080Z"
   },
   {
    "duration": 3,
    "start_time": "2024-12-11T00:06:54.446Z"
   },
   {
    "duration": 14,
    "start_time": "2024-12-11T00:06:55.017Z"
   },
   {
    "duration": 2,
    "start_time": "2024-12-11T00:06:55.455Z"
   },
   {
    "duration": 28,
    "start_time": "2024-12-11T00:15:08.343Z"
   },
   {
    "duration": 14,
    "start_time": "2024-12-11T00:15:16.941Z"
   },
   {
    "duration": 2,
    "start_time": "2024-12-11T00:16:01.223Z"
   },
   {
    "duration": 2559,
    "start_time": "2024-12-11T17:13:29.266Z"
   },
   {
    "duration": 131,
    "start_time": "2024-12-11T17:13:31.828Z"
   },
   {
    "duration": 16,
    "start_time": "2024-12-11T17:13:31.960Z"
   },
   {
    "duration": 9,
    "start_time": "2024-12-11T17:13:31.978Z"
   },
   {
    "duration": 26,
    "start_time": "2024-12-11T17:13:31.989Z"
   },
   {
    "duration": 10,
    "start_time": "2024-12-11T17:13:32.017Z"
   },
   {
    "duration": 41,
    "start_time": "2024-12-11T17:13:32.029Z"
   },
   {
    "duration": 69,
    "start_time": "2024-12-11T17:13:32.072Z"
   },
   {
    "duration": 8,
    "start_time": "2024-12-11T17:13:32.142Z"
   },
   {
    "duration": 112,
    "start_time": "2024-12-11T17:13:32.151Z"
   },
   {
    "duration": 7,
    "start_time": "2024-12-11T17:13:32.265Z"
   },
   {
    "duration": 23,
    "start_time": "2024-12-11T17:13:32.273Z"
   },
   {
    "duration": 20,
    "start_time": "2024-12-11T17:13:32.311Z"
   },
   {
    "duration": 8,
    "start_time": "2024-12-11T17:13:32.335Z"
   },
   {
    "duration": 3,
    "start_time": "2024-12-11T17:13:32.345Z"
   },
   {
    "duration": 22,
    "start_time": "2024-12-11T17:13:32.349Z"
   },
   {
    "duration": 56,
    "start_time": "2024-12-11T17:13:32.372Z"
   },
   {
    "duration": 3,
    "start_time": "2024-12-11T17:13:32.430Z"
   },
   {
    "duration": 8,
    "start_time": "2024-12-11T17:13:32.435Z"
   },
   {
    "duration": 27,
    "start_time": "2024-12-11T17:13:32.445Z"
   },
   {
    "duration": 51,
    "start_time": "2024-12-11T17:13:32.474Z"
   },
   {
    "duration": 18,
    "start_time": "2024-12-11T17:13:32.526Z"
   },
   {
    "duration": 36,
    "start_time": "2024-12-11T17:13:32.546Z"
   },
   {
    "duration": 6,
    "start_time": "2024-12-11T17:13:32.583Z"
   },
   {
    "duration": 22,
    "start_time": "2024-12-11T17:13:32.590Z"
   },
   {
    "duration": 5,
    "start_time": "2024-12-11T17:13:32.615Z"
   },
   {
    "duration": 3,
    "start_time": "2024-12-11T17:13:32.622Z"
   },
   {
    "duration": 17,
    "start_time": "2024-12-11T17:13:32.626Z"
   },
   {
    "duration": 39,
    "start_time": "2024-12-11T17:13:32.644Z"
   },
   {
    "duration": 30,
    "start_time": "2024-12-11T17:13:32.684Z"
   },
   {
    "duration": 37,
    "start_time": "2024-12-11T17:13:32.716Z"
   },
   {
    "duration": 4,
    "start_time": "2024-12-11T17:13:32.754Z"
   },
   {
    "duration": 52,
    "start_time": "2024-12-11T17:13:32.760Z"
   },
   {
    "duration": 16,
    "start_time": "2024-12-11T17:13:32.814Z"
   },
   {
    "duration": 3,
    "start_time": "2024-12-11T17:13:32.831Z"
   },
   {
    "duration": 174,
    "start_time": "2024-12-11T21:02:54.747Z"
   },
   {
    "duration": 12,
    "start_time": "2024-12-11T21:03:51.203Z"
   },
   {
    "duration": 12,
    "start_time": "2024-12-11T21:03:55.340Z"
   },
   {
    "duration": 2579,
    "start_time": "2024-12-11T21:12:08.794Z"
   },
   {
    "duration": 129,
    "start_time": "2024-12-11T21:12:11.375Z"
   },
   {
    "duration": 16,
    "start_time": "2024-12-11T21:12:11.506Z"
   },
   {
    "duration": 9,
    "start_time": "2024-12-11T21:12:11.524Z"
   },
   {
    "duration": 16,
    "start_time": "2024-12-11T21:12:11.535Z"
   },
   {
    "duration": 34,
    "start_time": "2024-12-11T21:12:11.553Z"
   },
   {
    "duration": 44,
    "start_time": "2024-12-11T21:12:11.589Z"
   },
   {
    "duration": 71,
    "start_time": "2024-12-11T21:12:11.635Z"
   },
   {
    "duration": 10,
    "start_time": "2024-12-11T21:12:11.708Z"
   },
   {
    "duration": 114,
    "start_time": "2024-12-11T21:12:11.719Z"
   },
   {
    "duration": 8,
    "start_time": "2024-12-11T21:12:11.835Z"
   },
   {
    "duration": 23,
    "start_time": "2024-12-11T21:12:11.845Z"
   },
   {
    "duration": 30,
    "start_time": "2024-12-11T21:12:11.870Z"
   },
   {
    "duration": 8,
    "start_time": "2024-12-11T21:12:11.903Z"
   },
   {
    "duration": 4,
    "start_time": "2024-12-11T21:12:11.912Z"
   },
   {
    "duration": 22,
    "start_time": "2024-12-11T21:12:11.917Z"
   },
   {
    "duration": 58,
    "start_time": "2024-12-11T21:12:11.941Z"
   },
   {
    "duration": 4,
    "start_time": "2024-12-11T21:12:12.001Z"
   },
   {
    "duration": 7,
    "start_time": "2024-12-11T21:12:12.007Z"
   },
   {
    "duration": 26,
    "start_time": "2024-12-11T21:12:12.016Z"
   },
   {
    "duration": 53,
    "start_time": "2024-12-11T21:12:12.044Z"
   },
   {
    "duration": 18,
    "start_time": "2024-12-11T21:12:12.099Z"
   },
   {
    "duration": 35,
    "start_time": "2024-12-11T21:12:12.120Z"
   },
   {
    "duration": 10,
    "start_time": "2024-12-11T21:12:12.157Z"
   },
   {
    "duration": 20,
    "start_time": "2024-12-11T21:12:12.169Z"
   },
   {
    "duration": 5,
    "start_time": "2024-12-11T21:12:12.190Z"
   },
   {
    "duration": 2,
    "start_time": "2024-12-11T21:12:12.196Z"
   },
   {
    "duration": 17,
    "start_time": "2024-12-11T21:12:12.200Z"
   },
   {
    "duration": 37,
    "start_time": "2024-12-11T21:12:12.218Z"
   },
   {
    "duration": 33,
    "start_time": "2024-12-11T21:12:12.258Z"
   },
   {
    "duration": 35,
    "start_time": "2024-12-11T21:12:12.294Z"
   },
   {
    "duration": 3,
    "start_time": "2024-12-11T21:12:12.331Z"
   },
   {
    "duration": 26,
    "start_time": "2024-12-11T21:12:12.336Z"
   },
   {
    "duration": 15,
    "start_time": "2024-12-11T21:12:12.386Z"
   },
   {
    "duration": 2,
    "start_time": "2024-12-11T21:12:12.403Z"
   },
   {
    "duration": 232,
    "start_time": "2024-12-11T21:12:12.407Z"
   },
   {
    "duration": 13,
    "start_time": "2024-12-11T21:12:35.501Z"
   },
   {
    "duration": 3,
    "start_time": "2024-12-11T21:12:40.028Z"
   },
   {
    "duration": 3,
    "start_time": "2024-12-11T21:13:15.015Z"
   },
   {
    "duration": 4,
    "start_time": "2024-12-11T21:13:47.847Z"
   },
   {
    "duration": 14,
    "start_time": "2024-12-11T21:20:45.027Z"
   },
   {
    "duration": 6,
    "start_time": "2024-12-11T21:20:53.620Z"
   },
   {
    "duration": 13,
    "start_time": "2024-12-11T21:20:59.203Z"
   },
   {
    "duration": 3,
    "start_time": "2024-12-11T21:21:08.008Z"
   },
   {
    "duration": 13,
    "start_time": "2024-12-11T21:24:01.484Z"
   },
   {
    "duration": 17,
    "start_time": "2024-12-11T21:24:05.807Z"
   },
   {
    "duration": 15,
    "start_time": "2024-12-11T21:24:44.594Z"
   },
   {
    "duration": 394,
    "start_time": "2024-12-11T21:24:48.478Z"
   },
   {
    "duration": 44,
    "start_time": "2024-12-11T21:25:18.229Z"
   },
   {
    "duration": 43,
    "start_time": "2024-12-11T21:25:22.228Z"
   },
   {
    "duration": 37,
    "start_time": "2024-12-11T21:26:01.411Z"
   },
   {
    "duration": 7,
    "start_time": "2024-12-11T21:26:17.033Z"
   },
   {
    "duration": 11,
    "start_time": "2024-12-11T21:46:18.370Z"
   },
   {
    "duration": 3,
    "start_time": "2024-12-11T21:46:42.871Z"
   },
   {
    "duration": 13,
    "start_time": "2024-12-11T21:46:54.347Z"
   },
   {
    "duration": 3,
    "start_time": "2024-12-11T21:47:13.522Z"
   },
   {
    "duration": 3,
    "start_time": "2024-12-11T21:47:26.871Z"
   },
   {
    "duration": 4,
    "start_time": "2024-12-11T21:47:27.355Z"
   },
   {
    "duration": 17,
    "start_time": "2024-12-11T21:47:57.627Z"
   },
   {
    "duration": 19,
    "start_time": "2024-12-11T21:48:29.110Z"
   },
   {
    "duration": 3,
    "start_time": "2024-12-11T21:48:51.328Z"
   },
   {
    "duration": 5,
    "start_time": "2024-12-11T22:22:30.795Z"
   },
   {
    "duration": 3,
    "start_time": "2024-12-11T22:22:35.292Z"
   },
   {
    "duration": 15,
    "start_time": "2024-12-11T22:23:54.859Z"
   },
   {
    "duration": 4,
    "start_time": "2024-12-11T22:24:34.993Z"
   },
   {
    "duration": 15,
    "start_time": "2024-12-11T22:26:07.626Z"
   },
   {
    "duration": 16,
    "start_time": "2024-12-11T22:26:28.162Z"
   },
   {
    "duration": 14,
    "start_time": "2024-12-11T22:26:52.902Z"
   },
   {
    "duration": 21,
    "start_time": "2024-12-11T22:26:56.739Z"
   },
   {
    "duration": 21,
    "start_time": "2024-12-11T22:27:21.688Z"
   },
   {
    "duration": 3,
    "start_time": "2024-12-11T22:28:01.088Z"
   },
   {
    "duration": 13,
    "start_time": "2024-12-11T22:28:01.887Z"
   },
   {
    "duration": 3,
    "start_time": "2024-12-11T22:28:02.326Z"
   },
   {
    "duration": 59,
    "start_time": "2024-12-11T22:28:03.040Z"
   },
   {
    "duration": 3,
    "start_time": "2024-12-11T22:28:25.614Z"
   },
   {
    "duration": 14,
    "start_time": "2024-12-11T22:28:26.112Z"
   },
   {
    "duration": 4,
    "start_time": "2024-12-11T22:28:26.665Z"
   },
   {
    "duration": 199,
    "start_time": "2024-12-11T22:28:27.423Z"
   },
   {
    "duration": 818,
    "start_time": "2024-12-11T22:31:55.195Z"
   },
   {
    "duration": 106,
    "start_time": "2024-12-11T22:31:56.015Z"
   },
   {
    "duration": 16,
    "start_time": "2024-12-11T22:31:56.122Z"
   },
   {
    "duration": 8,
    "start_time": "2024-12-11T22:31:56.140Z"
   },
   {
    "duration": 15,
    "start_time": "2024-12-11T22:31:56.150Z"
   },
   {
    "duration": 12,
    "start_time": "2024-12-11T22:31:56.186Z"
   },
   {
    "duration": 46,
    "start_time": "2024-12-11T22:31:56.200Z"
   },
   {
    "duration": 69,
    "start_time": "2024-12-11T22:31:56.248Z"
   },
   {
    "duration": 7,
    "start_time": "2024-12-11T22:31:56.318Z"
   },
   {
    "duration": 113,
    "start_time": "2024-12-11T22:31:56.327Z"
   },
   {
    "duration": 8,
    "start_time": "2024-12-11T22:31:56.442Z"
   },
   {
    "duration": 37,
    "start_time": "2024-12-11T22:31:56.452Z"
   },
   {
    "duration": 17,
    "start_time": "2024-12-11T22:31:56.491Z"
   },
   {
    "duration": 6,
    "start_time": "2024-12-11T22:31:56.513Z"
   },
   {
    "duration": 4,
    "start_time": "2024-12-11T22:31:56.520Z"
   },
   {
    "duration": 22,
    "start_time": "2024-12-11T22:31:56.525Z"
   },
   {
    "duration": 59,
    "start_time": "2024-12-11T22:31:56.549Z"
   },
   {
    "duration": 3,
    "start_time": "2024-12-11T22:31:56.610Z"
   },
   {
    "duration": 7,
    "start_time": "2024-12-11T22:31:56.615Z"
   },
   {
    "duration": 27,
    "start_time": "2024-12-11T22:31:56.623Z"
   },
   {
    "duration": 49,
    "start_time": "2024-12-11T22:31:56.652Z"
   },
   {
    "duration": 18,
    "start_time": "2024-12-11T22:31:56.702Z"
   },
   {
    "duration": 35,
    "start_time": "2024-12-11T22:31:56.722Z"
   },
   {
    "duration": 5,
    "start_time": "2024-12-11T22:31:56.758Z"
   },
   {
    "duration": 24,
    "start_time": "2024-12-11T22:31:56.765Z"
   },
   {
    "duration": 4,
    "start_time": "2024-12-11T22:31:56.791Z"
   },
   {
    "duration": 2,
    "start_time": "2024-12-11T22:31:56.797Z"
   },
   {
    "duration": 15,
    "start_time": "2024-12-11T22:31:56.801Z"
   },
   {
    "duration": 38,
    "start_time": "2024-12-11T22:31:56.817Z"
   },
   {
    "duration": 31,
    "start_time": "2024-12-11T22:31:56.857Z"
   },
   {
    "duration": 35,
    "start_time": "2024-12-11T22:31:56.890Z"
   },
   {
    "duration": 3,
    "start_time": "2024-12-11T22:31:56.927Z"
   },
   {
    "duration": 28,
    "start_time": "2024-12-11T22:31:56.931Z"
   },
   {
    "duration": 35,
    "start_time": "2024-12-11T22:31:56.960Z"
   },
   {
    "duration": 3,
    "start_time": "2024-12-11T22:31:56.997Z"
   },
   {
    "duration": 4,
    "start_time": "2024-12-11T22:31:57.001Z"
   },
   {
    "duration": 3,
    "start_time": "2024-12-11T22:31:57.007Z"
   },
   {
    "duration": 3,
    "start_time": "2024-12-11T22:31:57.012Z"
   },
   {
    "duration": 18,
    "start_time": "2024-12-11T22:31:57.017Z"
   },
   {
    "duration": 71,
    "start_time": "2024-12-11T22:31:57.037Z"
   },
   {
    "duration": 5,
    "start_time": "2024-12-11T22:31:57.113Z"
   },
   {
    "duration": 11,
    "start_time": "2024-12-11T22:31:57.120Z"
   },
   {
    "duration": 2,
    "start_time": "2024-12-11T22:31:57.133Z"
   },
   {
    "duration": 3,
    "start_time": "2024-12-11T22:31:57.138Z"
   },
   {
    "duration": 315,
    "start_time": "2024-12-11T22:31:57.143Z"
   },
   {
    "duration": 0,
    "start_time": "2024-12-11T22:31:57.461Z"
   },
   {
    "duration": 0,
    "start_time": "2024-12-11T22:31:57.462Z"
   },
   {
    "duration": 0,
    "start_time": "2024-12-11T22:31:57.463Z"
   },
   {
    "duration": 0,
    "start_time": "2024-12-11T22:31:57.464Z"
   },
   {
    "duration": 3,
    "start_time": "2024-12-11T22:32:31.511Z"
   },
   {
    "duration": 3,
    "start_time": "2024-12-11T22:32:37.172Z"
   },
   {
    "duration": 17,
    "start_time": "2024-12-11T22:32:38.494Z"
   },
   {
    "duration": 4,
    "start_time": "2024-12-11T22:32:39.603Z"
   },
   {
    "duration": 184,
    "start_time": "2024-12-11T22:32:41.384Z"
   },
   {
    "duration": 190,
    "start_time": "2024-12-11T22:33:11.993Z"
   },
   {
    "duration": 209,
    "start_time": "2024-12-11T22:33:18.161Z"
   },
   {
    "duration": 265,
    "start_time": "2024-12-11T22:36:00.754Z"
   },
   {
    "duration": 7,
    "start_time": "2024-12-11T22:45:33.138Z"
   },
   {
    "duration": 257,
    "start_time": "2024-12-11T22:45:37.405Z"
   },
   {
    "duration": 7,
    "start_time": "2024-12-11T22:46:02.159Z"
   },
   {
    "duration": 274,
    "start_time": "2024-12-11T22:46:07.635Z"
   },
   {
    "duration": 4,
    "start_time": "2024-12-11T22:46:55.840Z"
   },
   {
    "duration": 258,
    "start_time": "2024-12-11T22:52:07.357Z"
   },
   {
    "duration": 17,
    "start_time": "2024-12-11T22:52:53.231Z"
   },
   {
    "duration": 247,
    "start_time": "2024-12-11T22:53:00.110Z"
   },
   {
    "duration": 247,
    "start_time": "2024-12-11T22:54:00.880Z"
   },
   {
    "duration": 253,
    "start_time": "2024-12-11T22:54:19.750Z"
   },
   {
    "duration": 203,
    "start_time": "2024-12-11T22:55:07.536Z"
   },
   {
    "duration": 246,
    "start_time": "2024-12-11T22:55:28.235Z"
   },
   {
    "duration": 808,
    "start_time": "2024-12-11T22:55:54.633Z"
   },
   {
    "duration": 106,
    "start_time": "2024-12-11T22:55:55.445Z"
   },
   {
    "duration": 16,
    "start_time": "2024-12-11T22:55:55.553Z"
   },
   {
    "duration": 16,
    "start_time": "2024-12-11T22:55:55.571Z"
   },
   {
    "duration": 15,
    "start_time": "2024-12-11T22:55:55.590Z"
   },
   {
    "duration": 11,
    "start_time": "2024-12-11T22:55:55.607Z"
   },
   {
    "duration": 43,
    "start_time": "2024-12-11T22:55:55.620Z"
   },
   {
    "duration": 53,
    "start_time": "2024-12-11T22:55:55.686Z"
   },
   {
    "duration": 7,
    "start_time": "2024-12-11T22:55:55.741Z"
   },
   {
    "duration": 120,
    "start_time": "2024-12-11T22:55:55.750Z"
   },
   {
    "duration": 15,
    "start_time": "2024-12-11T22:55:55.872Z"
   },
   {
    "duration": 23,
    "start_time": "2024-12-11T22:55:55.888Z"
   },
   {
    "duration": 17,
    "start_time": "2024-12-11T22:55:55.913Z"
   },
   {
    "duration": 7,
    "start_time": "2024-12-11T22:55:55.934Z"
   },
   {
    "duration": 3,
    "start_time": "2024-12-11T22:55:55.942Z"
   },
   {
    "duration": 50,
    "start_time": "2024-12-11T22:55:55.947Z"
   },
   {
    "duration": 30,
    "start_time": "2024-12-11T22:55:55.999Z"
   },
   {
    "duration": 3,
    "start_time": "2024-12-11T22:55:56.031Z"
   },
   {
    "duration": 8,
    "start_time": "2024-12-11T22:55:56.036Z"
   },
   {
    "duration": 48,
    "start_time": "2024-12-11T22:55:56.045Z"
   },
   {
    "duration": 26,
    "start_time": "2024-12-11T22:55:56.095Z"
   },
   {
    "duration": 19,
    "start_time": "2024-12-11T22:55:56.124Z"
   },
   {
    "duration": 57,
    "start_time": "2024-12-11T22:55:56.146Z"
   },
   {
    "duration": 6,
    "start_time": "2024-12-11T22:55:56.205Z"
   },
   {
    "duration": 4,
    "start_time": "2024-12-11T22:55:56.212Z"
   },
   {
    "duration": 5,
    "start_time": "2024-12-11T22:55:56.217Z"
   },
   {
    "duration": 3,
    "start_time": "2024-12-11T22:55:56.223Z"
   },
   {
    "duration": 16,
    "start_time": "2024-12-11T22:55:56.227Z"
   },
   {
    "duration": 67,
    "start_time": "2024-12-11T22:55:56.245Z"
   },
   {
    "duration": 6,
    "start_time": "2024-12-11T22:55:56.314Z"
   },
   {
    "duration": 37,
    "start_time": "2024-12-11T22:55:56.322Z"
   },
   {
    "duration": 3,
    "start_time": "2024-12-11T22:55:56.362Z"
   },
   {
    "duration": 27,
    "start_time": "2024-12-11T22:55:56.386Z"
   },
   {
    "duration": 16,
    "start_time": "2024-12-11T22:55:56.415Z"
   },
   {
    "duration": 3,
    "start_time": "2024-12-11T22:55:56.433Z"
   },
   {
    "duration": 4,
    "start_time": "2024-12-11T22:55:56.438Z"
   },
   {
    "duration": 4,
    "start_time": "2024-12-11T22:55:56.443Z"
   },
   {
    "duration": 3,
    "start_time": "2024-12-11T22:55:56.449Z"
   },
   {
    "duration": 52,
    "start_time": "2024-12-11T22:55:56.454Z"
   },
   {
    "duration": 34,
    "start_time": "2024-12-11T22:55:56.509Z"
   },
   {
    "duration": 5,
    "start_time": "2024-12-11T22:55:56.547Z"
   },
   {
    "duration": 32,
    "start_time": "2024-12-11T22:55:56.554Z"
   },
   {
    "duration": 3,
    "start_time": "2024-12-11T22:55:56.588Z"
   },
   {
    "duration": 4,
    "start_time": "2024-12-11T22:55:56.593Z"
   },
   {
    "duration": 4,
    "start_time": "2024-12-11T22:55:56.598Z"
   },
   {
    "duration": 4,
    "start_time": "2024-12-11T22:55:56.603Z"
   },
   {
    "duration": 302,
    "start_time": "2024-12-11T22:55:56.608Z"
   },
   {
    "duration": 0,
    "start_time": "2024-12-11T22:55:56.912Z"
   },
   {
    "duration": 212,
    "start_time": "2024-12-11T22:56:18.348Z"
   },
   {
    "duration": 3,
    "start_time": "2024-12-11T22:56:56.986Z"
   },
   {
    "duration": 13,
    "start_time": "2024-12-11T22:56:59.685Z"
   },
   {
    "duration": 5,
    "start_time": "2024-12-11T22:57:01.462Z"
   },
   {
    "duration": 198,
    "start_time": "2024-12-11T22:57:03.277Z"
   },
   {
    "duration": 206,
    "start_time": "2024-12-11T22:57:14.669Z"
   },
   {
    "duration": 3,
    "start_time": "2024-12-11T23:10:21.225Z"
   },
   {
    "duration": 19,
    "start_time": "2024-12-11T23:11:51.887Z"
   },
   {
    "duration": 47,
    "start_time": "2024-12-11T23:12:43.336Z"
   },
   {
    "duration": 84,
    "start_time": "2024-12-11T23:13:23.472Z"
   },
   {
    "duration": 3,
    "start_time": "2024-12-11T23:14:09.607Z"
   },
   {
    "duration": 74,
    "start_time": "2024-12-11T23:14:09.990Z"
   },
   {
    "duration": 421,
    "start_time": "2024-12-11T23:14:57.169Z"
   },
   {
    "duration": 48,
    "start_time": "2024-12-11T23:15:06.129Z"
   },
   {
    "duration": 19,
    "start_time": "2024-12-11T23:15:26.947Z"
   },
   {
    "duration": 3,
    "start_time": "2024-12-11T23:15:38.702Z"
   },
   {
    "duration": 18,
    "start_time": "2024-12-11T23:15:39.636Z"
   },
   {
    "duration": 20,
    "start_time": "2024-12-11T23:17:50.016Z"
   },
   {
    "duration": 76,
    "start_time": "2024-12-11T23:19:19.409Z"
   },
   {
    "duration": 67,
    "start_time": "2024-12-11T23:20:21.372Z"
   },
   {
    "duration": 6,
    "start_time": "2024-12-11T23:20:39.393Z"
   },
   {
    "duration": 65,
    "start_time": "2024-12-11T23:20:55.790Z"
   },
   {
    "duration": 3,
    "start_time": "2024-12-11T23:22:03.225Z"
   },
   {
    "duration": 64,
    "start_time": "2024-12-11T23:22:04.793Z"
   },
   {
    "duration": 64,
    "start_time": "2024-12-11T23:22:11.371Z"
   },
   {
    "duration": 4,
    "start_time": "2024-12-11T23:22:36.818Z"
   },
   {
    "duration": 198,
    "start_time": "2024-12-11T23:22:40.578Z"
   },
   {
    "duration": 200,
    "start_time": "2024-12-11T23:22:43.168Z"
   },
   {
    "duration": 5,
    "start_time": "2024-12-11T23:22:47.126Z"
   },
   {
    "duration": 6,
    "start_time": "2024-12-11T23:22:50.531Z"
   },
   {
    "duration": 195,
    "start_time": "2024-12-11T23:22:55.180Z"
   },
   {
    "duration": 42,
    "start_time": "2024-12-11T23:23:17.015Z"
   },
   {
    "duration": 3,
    "start_time": "2024-12-11T23:23:31.109Z"
   },
   {
    "duration": 197,
    "start_time": "2024-12-11T23:23:33.706Z"
   },
   {
    "duration": 29,
    "start_time": "2024-12-11T23:23:35.770Z"
   },
   {
    "duration": 67,
    "start_time": "2024-12-11T23:24:22.325Z"
   },
   {
    "duration": 5,
    "start_time": "2024-12-11T23:24:30.905Z"
   },
   {
    "duration": 67,
    "start_time": "2024-12-11T23:24:47.216Z"
   },
   {
    "duration": 3,
    "start_time": "2024-12-11T23:25:07.065Z"
   },
   {
    "duration": 66,
    "start_time": "2024-12-11T23:25:07.604Z"
   },
   {
    "duration": 65,
    "start_time": "2024-12-11T23:25:15.867Z"
   },
   {
    "duration": 67,
    "start_time": "2024-12-11T23:25:22.382Z"
   },
   {
    "duration": 4,
    "start_time": "2024-12-11T23:25:58.232Z"
   },
   {
    "duration": 29,
    "start_time": "2024-12-11T23:26:01.271Z"
   },
   {
    "duration": 30,
    "start_time": "2024-12-11T23:26:16.093Z"
   },
   {
    "duration": 816,
    "start_time": "2024-12-11T23:26:36.932Z"
   },
   {
    "duration": 108,
    "start_time": "2024-12-11T23:26:37.751Z"
   },
   {
    "duration": 25,
    "start_time": "2024-12-11T23:26:37.861Z"
   },
   {
    "duration": 8,
    "start_time": "2024-12-11T23:26:37.888Z"
   },
   {
    "duration": 14,
    "start_time": "2024-12-11T23:26:37.899Z"
   },
   {
    "duration": 12,
    "start_time": "2024-12-11T23:26:37.915Z"
   },
   {
    "duration": 71,
    "start_time": "2024-12-11T23:26:37.930Z"
   },
   {
    "duration": 51,
    "start_time": "2024-12-11T23:26:38.003Z"
   },
   {
    "duration": 9,
    "start_time": "2024-12-11T23:26:38.056Z"
   },
   {
    "duration": 130,
    "start_time": "2024-12-11T23:26:38.066Z"
   },
   {
    "duration": 8,
    "start_time": "2024-12-11T23:26:38.197Z"
   },
   {
    "duration": 21,
    "start_time": "2024-12-11T23:26:38.208Z"
   },
   {
    "duration": 17,
    "start_time": "2024-12-11T23:26:38.231Z"
   },
   {
    "duration": 7,
    "start_time": "2024-12-11T23:26:38.252Z"
   },
   {
    "duration": 27,
    "start_time": "2024-12-11T23:26:38.260Z"
   },
   {
    "duration": 23,
    "start_time": "2024-12-11T23:26:38.289Z"
   },
   {
    "duration": 30,
    "start_time": "2024-12-11T23:26:38.313Z"
   },
   {
    "duration": 4,
    "start_time": "2024-12-11T23:26:38.345Z"
   },
   {
    "duration": 7,
    "start_time": "2024-12-11T23:26:38.350Z"
   },
   {
    "duration": 27,
    "start_time": "2024-12-11T23:26:38.387Z"
   },
   {
    "duration": 22,
    "start_time": "2024-12-11T23:26:38.416Z"
   },
   {
    "duration": 18,
    "start_time": "2024-12-11T23:26:38.440Z"
   },
   {
    "duration": 60,
    "start_time": "2024-12-11T23:26:38.460Z"
   },
   {
    "duration": 5,
    "start_time": "2024-12-11T23:26:38.522Z"
   },
   {
    "duration": 3,
    "start_time": "2024-12-11T23:26:38.529Z"
   },
   {
    "duration": 5,
    "start_time": "2024-12-11T23:26:38.534Z"
   },
   {
    "duration": 3,
    "start_time": "2024-12-11T23:26:38.540Z"
   },
   {
    "duration": 43,
    "start_time": "2024-12-11T23:26:38.544Z"
   },
   {
    "duration": 40,
    "start_time": "2024-12-11T23:26:38.588Z"
   },
   {
    "duration": 6,
    "start_time": "2024-12-11T23:26:38.630Z"
   },
   {
    "duration": 53,
    "start_time": "2024-12-11T23:26:38.638Z"
   },
   {
    "duration": 4,
    "start_time": "2024-12-11T23:26:38.693Z"
   },
   {
    "duration": 27,
    "start_time": "2024-12-11T23:26:38.698Z"
   },
   {
    "duration": 16,
    "start_time": "2024-12-11T23:26:38.727Z"
   },
   {
    "duration": 3,
    "start_time": "2024-12-11T23:26:38.744Z"
   },
   {
    "duration": 3,
    "start_time": "2024-12-11T23:26:38.749Z"
   },
   {
    "duration": 34,
    "start_time": "2024-12-11T23:26:38.754Z"
   },
   {
    "duration": 4,
    "start_time": "2024-12-11T23:26:38.790Z"
   },
   {
    "duration": 17,
    "start_time": "2024-12-11T23:26:38.795Z"
   },
   {
    "duration": 33,
    "start_time": "2024-12-11T23:26:38.814Z"
   },
   {
    "duration": 5,
    "start_time": "2024-12-11T23:26:38.852Z"
   },
   {
    "duration": 11,
    "start_time": "2024-12-11T23:26:38.888Z"
   },
   {
    "duration": 2,
    "start_time": "2024-12-11T23:26:38.901Z"
   },
   {
    "duration": 3,
    "start_time": "2024-12-11T23:26:38.905Z"
   },
   {
    "duration": 2,
    "start_time": "2024-12-11T23:26:38.910Z"
   },
   {
    "duration": 4,
    "start_time": "2024-12-11T23:26:38.914Z"
   },
   {
    "duration": 3,
    "start_time": "2024-12-11T23:26:38.919Z"
   },
   {
    "duration": 3,
    "start_time": "2024-12-11T23:26:38.924Z"
   },
   {
    "duration": 3,
    "start_time": "2024-12-11T23:26:38.929Z"
   },
   {
    "duration": 3,
    "start_time": "2024-12-11T23:26:38.933Z"
   },
   {
    "duration": 459,
    "start_time": "2024-12-11T23:26:38.938Z"
   },
   {
    "duration": 0,
    "start_time": "2024-12-11T23:26:39.399Z"
   },
   {
    "duration": 79,
    "start_time": "2024-12-11T23:26:52.505Z"
   },
   {
    "duration": 225,
    "start_time": "2024-12-11T23:27:08.066Z"
   },
   {
    "duration": 77,
    "start_time": "2024-12-11T23:27:20.814Z"
   },
   {
    "duration": 31,
    "start_time": "2024-12-11T23:29:06.112Z"
   },
   {
    "duration": 28,
    "start_time": "2024-12-11T23:29:26.346Z"
   },
   {
    "duration": 28,
    "start_time": "2024-12-11T23:29:39.064Z"
   },
   {
    "duration": 4,
    "start_time": "2024-12-11T23:31:32.911Z"
   },
   {
    "duration": 73,
    "start_time": "2024-12-11T23:31:54.021Z"
   },
   {
    "duration": 362,
    "start_time": "2024-12-11T23:31:57.300Z"
   },
   {
    "duration": 4,
    "start_time": "2024-12-11T23:32:38.364Z"
   },
   {
    "duration": 229,
    "start_time": "2024-12-11T23:32:40.876Z"
   },
   {
    "duration": 235,
    "start_time": "2024-12-11T23:33:08.167Z"
   },
   {
    "duration": 4,
    "start_time": "2024-12-11T23:34:41.878Z"
   },
   {
    "duration": 233,
    "start_time": "2024-12-11T23:34:48.185Z"
   },
   {
    "duration": 5,
    "start_time": "2024-12-11T23:35:17.739Z"
   },
   {
    "duration": 7,
    "start_time": "2024-12-11T23:36:19.487Z"
   },
   {
    "duration": 261,
    "start_time": "2024-12-11T23:36:56.404Z"
   },
   {
    "duration": 268,
    "start_time": "2024-12-11T23:37:19.893Z"
   },
   {
    "duration": 276,
    "start_time": "2024-12-11T23:37:48.110Z"
   },
   {
    "duration": 265,
    "start_time": "2024-12-11T23:38:10.279Z"
   },
   {
    "duration": 279,
    "start_time": "2024-12-11T23:38:21.949Z"
   },
   {
    "duration": 6,
    "start_time": "2024-12-11T23:38:47.239Z"
   },
   {
    "duration": 5,
    "start_time": "2024-12-11T23:38:51.732Z"
   },
   {
    "duration": 825,
    "start_time": "2024-12-11T23:39:02.519Z"
   },
   {
    "duration": 107,
    "start_time": "2024-12-11T23:39:03.346Z"
   },
   {
    "duration": 17,
    "start_time": "2024-12-11T23:39:03.455Z"
   },
   {
    "duration": 20,
    "start_time": "2024-12-11T23:39:03.474Z"
   },
   {
    "duration": 16,
    "start_time": "2024-12-11T23:39:03.497Z"
   },
   {
    "duration": 11,
    "start_time": "2024-12-11T23:39:03.514Z"
   },
   {
    "duration": 68,
    "start_time": "2024-12-11T23:39:03.527Z"
   },
   {
    "duration": 55,
    "start_time": "2024-12-11T23:39:03.598Z"
   },
   {
    "duration": 9,
    "start_time": "2024-12-11T23:39:03.654Z"
   },
   {
    "duration": 129,
    "start_time": "2024-12-11T23:39:03.666Z"
   },
   {
    "duration": 7,
    "start_time": "2024-12-11T23:39:03.797Z"
   },
   {
    "duration": 24,
    "start_time": "2024-12-11T23:39:03.806Z"
   },
   {
    "duration": 18,
    "start_time": "2024-12-11T23:39:03.831Z"
   },
   {
    "duration": 6,
    "start_time": "2024-12-11T23:39:03.854Z"
   },
   {
    "duration": 3,
    "start_time": "2024-12-11T23:39:03.886Z"
   },
   {
    "duration": 23,
    "start_time": "2024-12-11T23:39:03.891Z"
   },
   {
    "duration": 30,
    "start_time": "2024-12-11T23:39:03.916Z"
   },
   {
    "duration": 4,
    "start_time": "2024-12-11T23:39:03.948Z"
   },
   {
    "duration": 34,
    "start_time": "2024-12-11T23:39:03.954Z"
   },
   {
    "duration": 32,
    "start_time": "2024-12-11T23:39:03.989Z"
   },
   {
    "duration": 23,
    "start_time": "2024-12-11T23:39:04.023Z"
   },
   {
    "duration": 41,
    "start_time": "2024-12-11T23:39:04.048Z"
   },
   {
    "duration": 34,
    "start_time": "2024-12-11T23:39:04.090Z"
   },
   {
    "duration": 5,
    "start_time": "2024-12-11T23:39:04.126Z"
   },
   {
    "duration": 4,
    "start_time": "2024-12-11T23:39:04.132Z"
   },
   {
    "duration": 5,
    "start_time": "2024-12-11T23:39:04.138Z"
   },
   {
    "duration": 3,
    "start_time": "2024-12-11T23:39:04.144Z"
   },
   {
    "duration": 47,
    "start_time": "2024-12-11T23:39:04.148Z"
   },
   {
    "duration": 39,
    "start_time": "2024-12-11T23:39:04.197Z"
   },
   {
    "duration": 5,
    "start_time": "2024-12-11T23:39:04.238Z"
   },
   {
    "duration": 53,
    "start_time": "2024-12-11T23:39:04.245Z"
   },
   {
    "duration": 3,
    "start_time": "2024-12-11T23:39:04.300Z"
   },
   {
    "duration": 28,
    "start_time": "2024-12-11T23:39:04.304Z"
   },
   {
    "duration": 16,
    "start_time": "2024-12-11T23:39:04.334Z"
   },
   {
    "duration": 3,
    "start_time": "2024-12-11T23:39:04.352Z"
   },
   {
    "duration": 30,
    "start_time": "2024-12-11T23:39:04.357Z"
   },
   {
    "duration": 3,
    "start_time": "2024-12-11T23:39:04.389Z"
   },
   {
    "duration": 3,
    "start_time": "2024-12-11T23:39:04.394Z"
   },
   {
    "duration": 17,
    "start_time": "2024-12-11T23:39:04.399Z"
   },
   {
    "duration": 33,
    "start_time": "2024-12-11T23:39:04.418Z"
   },
   {
    "duration": 33,
    "start_time": "2024-12-11T23:39:04.456Z"
   },
   {
    "duration": 10,
    "start_time": "2024-12-11T23:39:04.491Z"
   },
   {
    "duration": 3,
    "start_time": "2024-12-11T23:39:04.503Z"
   },
   {
    "duration": 3,
    "start_time": "2024-12-11T23:39:04.509Z"
   },
   {
    "duration": 3,
    "start_time": "2024-12-11T23:39:04.513Z"
   },
   {
    "duration": 4,
    "start_time": "2024-12-11T23:39:04.518Z"
   },
   {
    "duration": 5,
    "start_time": "2024-12-11T23:39:04.524Z"
   },
   {
    "duration": 693,
    "start_time": "2024-12-11T23:39:04.530Z"
   },
   {
    "duration": 5,
    "start_time": "2024-12-11T23:40:23.954Z"
   },
   {
    "duration": 13,
    "start_time": "2024-12-11T23:42:43.053Z"
   },
   {
    "duration": 15,
    "start_time": "2024-12-11T23:42:49.656Z"
   },
   {
    "duration": 12,
    "start_time": "2024-12-11T23:42:55.835Z"
   },
   {
    "duration": 15,
    "start_time": "2024-12-11T23:43:17.212Z"
   },
   {
    "duration": 902,
    "start_time": "2024-12-11T23:43:30.984Z"
   },
   {
    "duration": 152,
    "start_time": "2024-12-11T23:43:31.891Z"
   },
   {
    "duration": 19,
    "start_time": "2024-12-11T23:43:32.047Z"
   },
   {
    "duration": 18,
    "start_time": "2024-12-11T23:43:32.068Z"
   },
   {
    "duration": 18,
    "start_time": "2024-12-11T23:43:32.089Z"
   },
   {
    "duration": 15,
    "start_time": "2024-12-11T23:43:32.109Z"
   },
   {
    "duration": 73,
    "start_time": "2024-12-11T23:43:32.127Z"
   },
   {
    "duration": 64,
    "start_time": "2024-12-11T23:43:32.202Z"
   },
   {
    "duration": 21,
    "start_time": "2024-12-11T23:43:32.268Z"
   },
   {
    "duration": 113,
    "start_time": "2024-12-11T23:43:32.291Z"
   },
   {
    "duration": 8,
    "start_time": "2024-12-11T23:43:32.405Z"
   },
   {
    "duration": 29,
    "start_time": "2024-12-11T23:43:32.415Z"
   },
   {
    "duration": 18,
    "start_time": "2024-12-11T23:43:32.446Z"
   },
   {
    "duration": 8,
    "start_time": "2024-12-11T23:43:32.487Z"
   },
   {
    "duration": 4,
    "start_time": "2024-12-11T23:43:32.497Z"
   },
   {
    "duration": 30,
    "start_time": "2024-12-11T23:43:32.504Z"
   },
   {
    "duration": 59,
    "start_time": "2024-12-11T23:43:32.536Z"
   },
   {
    "duration": 7,
    "start_time": "2024-12-11T23:43:32.597Z"
   },
   {
    "duration": 9,
    "start_time": "2024-12-11T23:43:32.607Z"
   },
   {
    "duration": 32,
    "start_time": "2024-12-11T23:43:32.618Z"
   },
   {
    "duration": 49,
    "start_time": "2024-12-11T23:43:32.654Z"
   },
   {
    "duration": 18,
    "start_time": "2024-12-11T23:43:32.705Z"
   },
   {
    "duration": 38,
    "start_time": "2024-12-11T23:43:32.724Z"
   },
   {
    "duration": 24,
    "start_time": "2024-12-11T23:43:32.764Z"
   },
   {
    "duration": 5,
    "start_time": "2024-12-11T23:43:32.792Z"
   },
   {
    "duration": 4,
    "start_time": "2024-12-11T23:43:32.800Z"
   },
   {
    "duration": 8,
    "start_time": "2024-12-11T23:43:32.806Z"
   },
   {
    "duration": 24,
    "start_time": "2024-12-11T23:43:32.817Z"
   },
   {
    "duration": 79,
    "start_time": "2024-12-11T23:43:32.843Z"
   },
   {
    "duration": 11,
    "start_time": "2024-12-11T23:43:32.924Z"
   },
   {
    "duration": 56,
    "start_time": "2024-12-11T23:43:32.937Z"
   },
   {
    "duration": 4,
    "start_time": "2024-12-11T23:43:32.995Z"
   },
   {
    "duration": 30,
    "start_time": "2024-12-11T23:43:33.001Z"
   },
   {
    "duration": 17,
    "start_time": "2024-12-11T23:43:33.032Z"
   },
   {
    "duration": 2,
    "start_time": "2024-12-11T23:43:33.051Z"
   },
   {
    "duration": 3,
    "start_time": "2024-12-11T23:43:33.055Z"
   },
   {
    "duration": 4,
    "start_time": "2024-12-11T23:43:33.087Z"
   },
   {
    "duration": 3,
    "start_time": "2024-12-11T23:43:33.092Z"
   },
   {
    "duration": 29,
    "start_time": "2024-12-11T23:43:33.097Z"
   },
   {
    "duration": 73,
    "start_time": "2024-12-11T23:43:33.128Z"
   },
   {
    "duration": 7,
    "start_time": "2024-12-11T23:43:33.206Z"
   },
   {
    "duration": 12,
    "start_time": "2024-12-11T23:43:33.215Z"
   },
   {
    "duration": 3,
    "start_time": "2024-12-11T23:43:33.230Z"
   },
   {
    "duration": 5,
    "start_time": "2024-12-11T23:43:33.236Z"
   },
   {
    "duration": 4,
    "start_time": "2024-12-11T23:43:33.243Z"
   },
   {
    "duration": 5,
    "start_time": "2024-12-11T23:43:33.249Z"
   },
   {
    "duration": 37,
    "start_time": "2024-12-11T23:43:33.257Z"
   },
   {
    "duration": 308,
    "start_time": "2024-12-11T23:43:33.297Z"
   },
   {
    "duration": 0,
    "start_time": "2024-12-11T23:43:33.607Z"
   },
   {
    "duration": 14,
    "start_time": "2024-12-11T23:45:11.174Z"
   },
   {
    "duration": 12,
    "start_time": "2024-12-11T23:45:18.309Z"
   },
   {
    "duration": 5,
    "start_time": "2024-12-11T23:45:56.404Z"
   },
   {
    "duration": 13,
    "start_time": "2024-12-11T23:45:58.734Z"
   },
   {
    "duration": 5,
    "start_time": "2024-12-11T23:46:14.850Z"
   },
   {
    "duration": 14,
    "start_time": "2024-12-11T23:46:16.114Z"
   },
   {
    "duration": 5,
    "start_time": "2024-12-11T23:56:13.490Z"
   },
   {
    "duration": 13,
    "start_time": "2024-12-11T23:56:14.130Z"
   },
   {
    "duration": 4,
    "start_time": "2024-12-11T23:56:43.131Z"
   },
   {
    "duration": 13,
    "start_time": "2024-12-11T23:56:54.361Z"
   },
   {
    "duration": 4,
    "start_time": "2024-12-11T23:57:55.608Z"
   },
   {
    "duration": 14,
    "start_time": "2024-12-11T23:57:59.057Z"
   },
   {
    "duration": 13,
    "start_time": "2024-12-11T23:58:04.821Z"
   },
   {
    "duration": 859,
    "start_time": "2024-12-11T23:58:17.548Z"
   },
   {
    "duration": 106,
    "start_time": "2024-12-11T23:58:18.409Z"
   },
   {
    "duration": 16,
    "start_time": "2024-12-11T23:58:18.517Z"
   },
   {
    "duration": 9,
    "start_time": "2024-12-11T23:58:18.535Z"
   },
   {
    "duration": 15,
    "start_time": "2024-12-11T23:58:18.546Z"
   },
   {
    "duration": 32,
    "start_time": "2024-12-11T23:58:18.562Z"
   },
   {
    "duration": 45,
    "start_time": "2024-12-11T23:58:18.595Z"
   },
   {
    "duration": 70,
    "start_time": "2024-12-11T23:58:18.642Z"
   },
   {
    "duration": 8,
    "start_time": "2024-12-11T23:58:18.715Z"
   },
   {
    "duration": 116,
    "start_time": "2024-12-11T23:58:18.726Z"
   },
   {
    "duration": 8,
    "start_time": "2024-12-11T23:58:18.843Z"
   },
   {
    "duration": 35,
    "start_time": "2024-12-11T23:58:18.853Z"
   },
   {
    "duration": 23,
    "start_time": "2024-12-11T23:58:18.890Z"
   },
   {
    "duration": 8,
    "start_time": "2024-12-11T23:58:18.915Z"
   },
   {
    "duration": 3,
    "start_time": "2024-12-11T23:58:18.924Z"
   },
   {
    "duration": 27,
    "start_time": "2024-12-11T23:58:18.929Z"
   },
   {
    "duration": 57,
    "start_time": "2024-12-11T23:58:18.957Z"
   },
   {
    "duration": 4,
    "start_time": "2024-12-11T23:58:19.015Z"
   },
   {
    "duration": 7,
    "start_time": "2024-12-11T23:58:19.023Z"
   },
   {
    "duration": 27,
    "start_time": "2024-12-11T23:58:19.032Z"
   },
   {
    "duration": 24,
    "start_time": "2024-12-11T23:58:19.086Z"
   },
   {
    "duration": 18,
    "start_time": "2024-12-11T23:58:19.112Z"
   },
   {
    "duration": 36,
    "start_time": "2024-12-11T23:58:19.131Z"
   },
   {
    "duration": 22,
    "start_time": "2024-12-11T23:58:19.168Z"
   },
   {
    "duration": 4,
    "start_time": "2024-12-11T23:58:19.191Z"
   },
   {
    "duration": 5,
    "start_time": "2024-12-11T23:58:19.196Z"
   },
   {
    "duration": 2,
    "start_time": "2024-12-11T23:58:19.203Z"
   },
   {
    "duration": 17,
    "start_time": "2024-12-11T23:58:19.209Z"
   },
   {
    "duration": 68,
    "start_time": "2024-12-11T23:58:19.227Z"
   },
   {
    "duration": 5,
    "start_time": "2024-12-11T23:58:19.297Z"
   },
   {
    "duration": 37,
    "start_time": "2024-12-11T23:58:19.304Z"
   },
   {
    "duration": 3,
    "start_time": "2024-12-11T23:58:19.343Z"
   },
   {
    "duration": 47,
    "start_time": "2024-12-11T23:58:19.348Z"
   },
   {
    "duration": 14,
    "start_time": "2024-12-11T23:58:19.396Z"
   },
   {
    "duration": 3,
    "start_time": "2024-12-11T23:58:19.412Z"
   },
   {
    "duration": 4,
    "start_time": "2024-12-11T23:58:19.416Z"
   },
   {
    "duration": 4,
    "start_time": "2024-12-11T23:58:19.421Z"
   },
   {
    "duration": 4,
    "start_time": "2024-12-11T23:58:19.427Z"
   },
   {
    "duration": 17,
    "start_time": "2024-12-11T23:58:19.433Z"
   },
   {
    "duration": 64,
    "start_time": "2024-12-11T23:58:19.451Z"
   },
   {
    "duration": 7,
    "start_time": "2024-12-11T23:58:19.516Z"
   },
   {
    "duration": 11,
    "start_time": "2024-12-11T23:58:19.524Z"
   },
   {
    "duration": 3,
    "start_time": "2024-12-11T23:58:19.536Z"
   },
   {
    "duration": 4,
    "start_time": "2024-12-11T23:58:19.541Z"
   },
   {
    "duration": 4,
    "start_time": "2024-12-11T23:58:19.546Z"
   },
   {
    "duration": 39,
    "start_time": "2024-12-11T23:58:19.551Z"
   },
   {
    "duration": 5,
    "start_time": "2024-12-11T23:58:19.592Z"
   },
   {
    "duration": 284,
    "start_time": "2024-12-11T23:58:19.599Z"
   },
   {
    "duration": 5,
    "start_time": "2024-12-11T23:59:12.036Z"
   },
   {
    "duration": 14,
    "start_time": "2024-12-11T23:59:14.719Z"
   },
   {
    "duration": 4,
    "start_time": "2024-12-11T23:59:18.982Z"
   },
   {
    "duration": 5,
    "start_time": "2024-12-11T23:59:19.403Z"
   },
   {
    "duration": 13,
    "start_time": "2024-12-11T23:59:19.990Z"
   },
   {
    "duration": 3,
    "start_time": "2024-12-12T00:00:55.834Z"
   },
   {
    "duration": 13,
    "start_time": "2024-12-12T00:00:57.580Z"
   },
   {
    "duration": 4,
    "start_time": "2024-12-12T00:01:00.397Z"
   },
   {
    "duration": 5,
    "start_time": "2024-12-12T00:01:06.088Z"
   },
   {
    "duration": 13,
    "start_time": "2024-12-12T00:01:41.006Z"
   },
   {
    "duration": 4,
    "start_time": "2024-12-12T00:02:41.477Z"
   },
   {
    "duration": 18,
    "start_time": "2024-12-12T00:02:43.683Z"
   },
   {
    "duration": 4,
    "start_time": "2024-12-12T00:03:01.674Z"
   },
   {
    "duration": 5,
    "start_time": "2024-12-12T00:03:44.575Z"
   },
   {
    "duration": 13,
    "start_time": "2024-12-12T00:03:45.522Z"
   },
   {
    "duration": 5,
    "start_time": "2024-12-12T00:04:11.482Z"
   },
   {
    "duration": 13,
    "start_time": "2024-12-12T00:04:15.603Z"
   },
   {
    "duration": 419,
    "start_time": "2024-12-12T00:04:35.635Z"
   },
   {
    "duration": 5,
    "start_time": "2024-12-12T00:04:39.920Z"
   },
   {
    "duration": 252,
    "start_time": "2024-12-12T00:05:05.012Z"
   },
   {
    "duration": 5,
    "start_time": "2024-12-12T00:05:08.701Z"
   },
   {
    "duration": 246,
    "start_time": "2024-12-12T00:05:16.234Z"
   },
   {
    "duration": 2602,
    "start_time": "2024-12-12T20:11:28.901Z"
   },
   {
    "duration": 150,
    "start_time": "2024-12-12T20:11:31.506Z"
   },
   {
    "duration": 17,
    "start_time": "2024-12-12T20:11:31.658Z"
   },
   {
    "duration": 16,
    "start_time": "2024-12-12T20:11:31.677Z"
   },
   {
    "duration": 15,
    "start_time": "2024-12-12T20:11:31.694Z"
   },
   {
    "duration": 12,
    "start_time": "2024-12-12T20:11:31.712Z"
   },
   {
    "duration": 69,
    "start_time": "2024-12-12T20:11:31.725Z"
   },
   {
    "duration": 56,
    "start_time": "2024-12-12T20:11:31.797Z"
   },
   {
    "duration": 8,
    "start_time": "2024-12-12T20:11:31.855Z"
   },
   {
    "duration": 123,
    "start_time": "2024-12-12T20:11:31.866Z"
   },
   {
    "duration": 8,
    "start_time": "2024-12-12T20:11:31.990Z"
   },
   {
    "duration": 24,
    "start_time": "2024-12-12T20:11:31.999Z"
   },
   {
    "duration": 19,
    "start_time": "2024-12-12T20:11:32.025Z"
   },
   {
    "duration": 7,
    "start_time": "2024-12-12T20:11:32.046Z"
   },
   {
    "duration": 34,
    "start_time": "2024-12-12T20:11:32.054Z"
   },
   {
    "duration": 23,
    "start_time": "2024-12-12T20:11:32.090Z"
   },
   {
    "duration": 30,
    "start_time": "2024-12-12T20:11:32.115Z"
   },
   {
    "duration": 987,
    "start_time": "2024-12-12T20:16:37.035Z"
   },
   {
    "duration": 139,
    "start_time": "2024-12-12T20:16:38.025Z"
   },
   {
    "duration": 20,
    "start_time": "2024-12-12T20:16:38.166Z"
   },
   {
    "duration": 9,
    "start_time": "2024-12-12T20:16:38.188Z"
   },
   {
    "duration": 16,
    "start_time": "2024-12-12T20:16:38.200Z"
   },
   {
    "duration": 11,
    "start_time": "2024-12-12T20:16:38.218Z"
   },
   {
    "duration": 69,
    "start_time": "2024-12-12T20:16:38.230Z"
   },
   {
    "duration": 58,
    "start_time": "2024-12-12T20:16:38.301Z"
   },
   {
    "duration": 8,
    "start_time": "2024-12-12T20:16:38.361Z"
   },
   {
    "duration": 105,
    "start_time": "2024-12-12T20:16:38.387Z"
   },
   {
    "duration": 8,
    "start_time": "2024-12-12T20:16:38.493Z"
   },
   {
    "duration": 23,
    "start_time": "2024-12-12T20:16:38.502Z"
   },
   {
    "duration": 18,
    "start_time": "2024-12-12T20:16:38.526Z"
   },
   {
    "duration": 7,
    "start_time": "2024-12-12T20:16:38.547Z"
   },
   {
    "duration": 31,
    "start_time": "2024-12-12T20:16:38.555Z"
   },
   {
    "duration": 23,
    "start_time": "2024-12-12T20:16:38.588Z"
   },
   {
    "duration": 272,
    "start_time": "2024-12-12T20:16:40.828Z"
   },
   {
    "duration": 0,
    "start_time": "2024-12-12T20:16:41.103Z"
   },
   {
    "duration": 0,
    "start_time": "2024-12-12T20:16:41.105Z"
   },
   {
    "duration": 0,
    "start_time": "2024-12-12T20:16:41.107Z"
   },
   {
    "duration": 0,
    "start_time": "2024-12-12T20:16:41.108Z"
   },
   {
    "duration": 0,
    "start_time": "2024-12-12T20:16:41.110Z"
   },
   {
    "duration": 0,
    "start_time": "2024-12-12T20:16:41.111Z"
   },
   {
    "duration": 0,
    "start_time": "2024-12-12T20:16:41.113Z"
   },
   {
    "duration": 0,
    "start_time": "2024-12-12T20:16:41.114Z"
   },
   {
    "duration": 0,
    "start_time": "2024-12-12T20:16:41.115Z"
   },
   {
    "duration": 0,
    "start_time": "2024-12-12T20:16:41.116Z"
   },
   {
    "duration": 0,
    "start_time": "2024-12-12T20:16:41.118Z"
   },
   {
    "duration": 0,
    "start_time": "2024-12-12T20:16:41.119Z"
   },
   {
    "duration": 0,
    "start_time": "2024-12-12T20:16:41.120Z"
   },
   {
    "duration": 0,
    "start_time": "2024-12-12T20:16:41.122Z"
   },
   {
    "duration": 0,
    "start_time": "2024-12-12T20:16:41.123Z"
   },
   {
    "duration": 0,
    "start_time": "2024-12-12T20:16:41.125Z"
   },
   {
    "duration": 0,
    "start_time": "2024-12-12T20:16:41.127Z"
   },
   {
    "duration": 0,
    "start_time": "2024-12-12T20:16:41.129Z"
   },
   {
    "duration": 0,
    "start_time": "2024-12-12T20:16:41.130Z"
   },
   {
    "duration": 0,
    "start_time": "2024-12-12T20:16:41.132Z"
   },
   {
    "duration": 0,
    "start_time": "2024-12-12T20:16:41.133Z"
   },
   {
    "duration": 0,
    "start_time": "2024-12-12T20:16:41.135Z"
   },
   {
    "duration": 0,
    "start_time": "2024-12-12T20:16:41.136Z"
   },
   {
    "duration": 0,
    "start_time": "2024-12-12T20:16:41.187Z"
   },
   {
    "duration": 0,
    "start_time": "2024-12-12T20:16:41.188Z"
   },
   {
    "duration": 0,
    "start_time": "2024-12-12T20:16:41.190Z"
   },
   {
    "duration": 0,
    "start_time": "2024-12-12T20:16:41.191Z"
   },
   {
    "duration": 0,
    "start_time": "2024-12-12T20:16:41.193Z"
   },
   {
    "duration": 0,
    "start_time": "2024-12-12T20:16:41.194Z"
   },
   {
    "duration": 30,
    "start_time": "2024-12-12T20:16:58.812Z"
   },
   {
    "duration": 8,
    "start_time": "2024-12-12T20:17:00.972Z"
   },
   {
    "duration": 29,
    "start_time": "2024-12-12T20:17:01.684Z"
   },
   {
    "duration": 26,
    "start_time": "2024-12-12T20:17:02.589Z"
   },
   {
    "duration": 24,
    "start_time": "2024-12-12T20:17:03.174Z"
   },
   {
    "duration": 50,
    "start_time": "2024-12-12T20:17:03.999Z"
   },
   {
    "duration": 6,
    "start_time": "2024-12-12T20:17:04.063Z"
   },
   {
    "duration": 4,
    "start_time": "2024-12-12T20:17:04.260Z"
   },
   {
    "duration": 5,
    "start_time": "2024-12-12T20:17:04.443Z"
   },
   {
    "duration": 3,
    "start_time": "2024-12-12T20:17:04.810Z"
   },
   {
    "duration": 16,
    "start_time": "2024-12-12T20:17:04.991Z"
   },
   {
    "duration": 40,
    "start_time": "2024-12-12T20:17:05.188Z"
   },
   {
    "duration": 6,
    "start_time": "2024-12-12T20:17:05.368Z"
   },
   {
    "duration": 38,
    "start_time": "2024-12-12T20:17:06.080Z"
   },
   {
    "duration": 4,
    "start_time": "2024-12-12T20:17:06.824Z"
   },
   {
    "duration": 29,
    "start_time": "2024-12-12T20:17:07.188Z"
   },
   {
    "duration": 18,
    "start_time": "2024-12-12T20:17:07.389Z"
   },
   {
    "duration": 3,
    "start_time": "2024-12-12T20:17:07.575Z"
   },
   {
    "duration": 3,
    "start_time": "2024-12-12T20:17:07.760Z"
   },
   {
    "duration": 3,
    "start_time": "2024-12-12T20:17:07.947Z"
   },
   {
    "duration": 4,
    "start_time": "2024-12-12T20:17:08.135Z"
   },
   {
    "duration": 18,
    "start_time": "2024-12-12T20:17:08.571Z"
   },
   {
    "duration": 35,
    "start_time": "2024-12-12T20:17:08.775Z"
   },
   {
    "duration": 5,
    "start_time": "2024-12-12T20:17:08.958Z"
   },
   {
    "duration": 12,
    "start_time": "2024-12-12T20:17:09.157Z"
   },
   {
    "duration": 3,
    "start_time": "2024-12-12T20:17:09.331Z"
   },
   {
    "duration": 4,
    "start_time": "2024-12-12T20:17:09.507Z"
   },
   {
    "duration": 3,
    "start_time": "2024-12-12T20:17:09.702Z"
   },
   {
    "duration": 4,
    "start_time": "2024-12-12T20:17:10.066Z"
   },
   {
    "duration": 258,
    "start_time": "2024-12-12T20:17:10.260Z"
   },
   {
    "duration": 6,
    "start_time": "2024-12-12T20:17:10.643Z"
   },
   {
    "duration": 171,
    "start_time": "2024-12-13T16:59:10.020Z"
   },
   {
    "duration": 14,
    "start_time": "2024-12-13T16:59:15.506Z"
   },
   {
    "duration": 2754,
    "start_time": "2024-12-13T16:59:23.121Z"
   },
   {
    "duration": 128,
    "start_time": "2024-12-13T16:59:25.879Z"
   },
   {
    "duration": 21,
    "start_time": "2024-12-13T16:59:26.008Z"
   },
   {
    "duration": 10,
    "start_time": "2024-12-13T16:59:26.030Z"
   },
   {
    "duration": 17,
    "start_time": "2024-12-13T16:59:26.043Z"
   },
   {
    "duration": 12,
    "start_time": "2024-12-13T16:59:26.062Z"
   },
   {
    "duration": 75,
    "start_time": "2024-12-13T16:59:26.076Z"
   },
   {
    "duration": 69,
    "start_time": "2024-12-13T16:59:26.153Z"
   },
   {
    "duration": 8,
    "start_time": "2024-12-13T16:59:26.224Z"
   },
   {
    "duration": 115,
    "start_time": "2024-12-13T16:59:26.234Z"
   },
   {
    "duration": 8,
    "start_time": "2024-12-13T16:59:26.350Z"
   },
   {
    "duration": 23,
    "start_time": "2024-12-13T16:59:26.360Z"
   },
   {
    "duration": 35,
    "start_time": "2024-12-13T16:59:26.385Z"
   },
   {
    "duration": 7,
    "start_time": "2024-12-13T16:59:26.424Z"
   },
   {
    "duration": 3,
    "start_time": "2024-12-13T16:59:26.432Z"
   },
   {
    "duration": 24,
    "start_time": "2024-12-13T16:59:26.436Z"
   },
   {
    "duration": 3,
    "start_time": "2024-12-13T16:59:26.461Z"
   },
   {
    "duration": 364,
    "start_time": "2024-12-13T16:59:26.466Z"
   },
   {
    "duration": 233,
    "start_time": "2024-12-13T16:59:26.832Z"
   },
   {
    "duration": 0,
    "start_time": "2024-12-13T16:59:27.068Z"
   },
   {
    "duration": 0,
    "start_time": "2024-12-13T16:59:27.069Z"
   },
   {
    "duration": 0,
    "start_time": "2024-12-13T16:59:27.071Z"
   },
   {
    "duration": 0,
    "start_time": "2024-12-13T16:59:27.072Z"
   },
   {
    "duration": 0,
    "start_time": "2024-12-13T16:59:27.074Z"
   },
   {
    "duration": 0,
    "start_time": "2024-12-13T16:59:27.075Z"
   },
   {
    "duration": 0,
    "start_time": "2024-12-13T16:59:27.077Z"
   },
   {
    "duration": 0,
    "start_time": "2024-12-13T16:59:27.078Z"
   },
   {
    "duration": 0,
    "start_time": "2024-12-13T16:59:27.080Z"
   },
   {
    "duration": 1,
    "start_time": "2024-12-13T16:59:27.081Z"
   },
   {
    "duration": 0,
    "start_time": "2024-12-13T16:59:27.084Z"
   },
   {
    "duration": 0,
    "start_time": "2024-12-13T16:59:27.085Z"
   },
   {
    "duration": 0,
    "start_time": "2024-12-13T16:59:27.112Z"
   },
   {
    "duration": 0,
    "start_time": "2024-12-13T16:59:27.114Z"
   },
   {
    "duration": 0,
    "start_time": "2024-12-13T16:59:27.116Z"
   },
   {
    "duration": 0,
    "start_time": "2024-12-13T16:59:27.118Z"
   },
   {
    "duration": 0,
    "start_time": "2024-12-13T16:59:27.119Z"
   },
   {
    "duration": 0,
    "start_time": "2024-12-13T16:59:27.121Z"
   },
   {
    "duration": 1,
    "start_time": "2024-12-13T16:59:27.122Z"
   },
   {
    "duration": 0,
    "start_time": "2024-12-13T16:59:27.124Z"
   },
   {
    "duration": 0,
    "start_time": "2024-12-13T16:59:27.126Z"
   },
   {
    "duration": 0,
    "start_time": "2024-12-13T16:59:27.127Z"
   },
   {
    "duration": 0,
    "start_time": "2024-12-13T16:59:27.129Z"
   },
   {
    "duration": 0,
    "start_time": "2024-12-13T16:59:27.131Z"
   },
   {
    "duration": 0,
    "start_time": "2024-12-13T16:59:27.132Z"
   },
   {
    "duration": 1,
    "start_time": "2024-12-13T16:59:27.133Z"
   },
   {
    "duration": 0,
    "start_time": "2024-12-13T16:59:27.135Z"
   },
   {
    "duration": 0,
    "start_time": "2024-12-13T16:59:27.137Z"
   },
   {
    "duration": 0,
    "start_time": "2024-12-13T16:59:27.138Z"
   },
   {
    "duration": 770,
    "start_time": "2024-12-13T17:21:51.098Z"
   },
   {
    "duration": 123,
    "start_time": "2024-12-13T17:21:51.872Z"
   },
   {
    "duration": 31,
    "start_time": "2024-12-13T17:21:51.997Z"
   },
   {
    "duration": 8,
    "start_time": "2024-12-13T17:21:52.030Z"
   },
   {
    "duration": 15,
    "start_time": "2024-12-13T17:21:52.041Z"
   },
   {
    "duration": 11,
    "start_time": "2024-12-13T17:21:52.058Z"
   },
   {
    "duration": 65,
    "start_time": "2024-12-13T17:21:52.071Z"
   },
   {
    "duration": 53,
    "start_time": "2024-12-13T17:21:52.138Z"
   },
   {
    "duration": 22,
    "start_time": "2024-12-13T17:21:52.193Z"
   },
   {
    "duration": 135,
    "start_time": "2024-12-13T17:21:52.217Z"
   },
   {
    "duration": 11,
    "start_time": "2024-12-13T17:21:52.354Z"
   },
   {
    "duration": 27,
    "start_time": "2024-12-13T17:21:52.367Z"
   },
   {
    "duration": 29,
    "start_time": "2024-12-13T17:21:52.396Z"
   },
   {
    "duration": 6,
    "start_time": "2024-12-13T17:21:52.429Z"
   },
   {
    "duration": 3,
    "start_time": "2024-12-13T17:21:52.437Z"
   },
   {
    "duration": 22,
    "start_time": "2024-12-13T17:21:52.442Z"
   },
   {
    "duration": 62,
    "start_time": "2024-12-13T17:21:52.466Z"
   },
   {
    "duration": 339,
    "start_time": "2024-12-13T17:21:52.530Z"
   },
   {
    "duration": 9,
    "start_time": "2024-12-13T17:21:52.872Z"
   },
   {
    "duration": 38,
    "start_time": "2024-12-13T17:21:52.883Z"
   },
   {
    "duration": 23,
    "start_time": "2024-12-13T17:21:52.923Z"
   },
   {
    "duration": 27,
    "start_time": "2024-12-13T17:21:52.949Z"
   },
   {
    "duration": 54,
    "start_time": "2024-12-13T17:21:52.980Z"
   },
   {
    "duration": 5,
    "start_time": "2024-12-13T17:21:53.036Z"
   },
   {
    "duration": 4,
    "start_time": "2024-12-13T17:21:53.043Z"
   },
   {
    "duration": 5,
    "start_time": "2024-12-13T17:21:53.050Z"
   },
   {
    "duration": 2,
    "start_time": "2024-12-13T17:21:53.057Z"
   },
   {
    "duration": 16,
    "start_time": "2024-12-13T17:21:53.061Z"
   },
   {
    "duration": 67,
    "start_time": "2024-12-13T17:21:53.079Z"
   },
   {
    "duration": 6,
    "start_time": "2024-12-13T17:21:53.148Z"
   },
   {
    "duration": 37,
    "start_time": "2024-12-13T17:21:53.156Z"
   },
   {
    "duration": 5,
    "start_time": "2024-12-13T17:21:53.212Z"
   },
   {
    "duration": 35,
    "start_time": "2024-12-13T17:21:53.219Z"
   },
   {
    "duration": 19,
    "start_time": "2024-12-13T17:21:53.258Z"
   },
   {
    "duration": 6,
    "start_time": "2024-12-13T17:21:53.279Z"
   },
   {
    "duration": 11,
    "start_time": "2024-12-13T17:21:53.287Z"
   },
   {
    "duration": 3,
    "start_time": "2024-12-13T17:21:53.311Z"
   },
   {
    "duration": 3,
    "start_time": "2024-12-13T17:21:53.316Z"
   },
   {
    "duration": 21,
    "start_time": "2024-12-13T17:21:53.322Z"
   },
   {
    "duration": 68,
    "start_time": "2024-12-13T17:21:53.345Z"
   },
   {
    "duration": 6,
    "start_time": "2024-12-13T17:21:53.419Z"
   },
   {
    "duration": 12,
    "start_time": "2024-12-13T17:21:53.429Z"
   },
   {
    "duration": 3,
    "start_time": "2024-12-13T17:21:53.443Z"
   },
   {
    "duration": 6,
    "start_time": "2024-12-13T17:21:53.447Z"
   },
   {
    "duration": 3,
    "start_time": "2024-12-13T17:21:53.455Z"
   },
   {
    "duration": 6,
    "start_time": "2024-12-13T17:21:53.459Z"
   },
   {
    "duration": 340,
    "start_time": "2024-12-13T17:21:53.467Z"
   },
   {
    "duration": 5,
    "start_time": "2024-12-13T17:21:53.809Z"
   },
   {
    "duration": 283,
    "start_time": "2024-12-13T17:23:25.520Z"
   },
   {
    "duration": 356,
    "start_time": "2024-12-13T17:24:47.516Z"
   },
   {
    "duration": 216,
    "start_time": "2024-12-13T17:36:41.639Z"
   },
   {
    "duration": 407,
    "start_time": "2024-12-13T17:36:48.738Z"
   },
   {
    "duration": 47,
    "start_time": "2024-12-13T17:37:15.091Z"
   },
   {
    "duration": 277,
    "start_time": "2024-12-13T17:37:51.705Z"
   },
   {
    "duration": 157,
    "start_time": "2024-12-13T17:46:50.110Z"
   },
   {
    "duration": 10,
    "start_time": "2024-12-13T17:46:59.295Z"
   },
   {
    "duration": 10,
    "start_time": "2024-12-13T17:49:10.693Z"
   },
   {
    "duration": 9,
    "start_time": "2024-12-13T17:49:33.568Z"
   },
   {
    "duration": 5,
    "start_time": "2024-12-13T18:13:11.819Z"
   },
   {
    "duration": 5,
    "start_time": "2024-12-13T18:13:34.461Z"
   }
  ],
  "kernelspec": {
   "display_name": "Python 3 (ipykernel)",
   "language": "python",
   "name": "python3"
  },
  "language_info": {
   "codemirror_mode": {
    "name": "ipython",
    "version": 3
   },
   "file_extension": ".py",
   "mimetype": "text/x-python",
   "name": "python",
   "nbconvert_exporter": "python",
   "pygments_lexer": "ipython3",
   "version": "3.9.19"
  },
  "toc": {
   "base_numbering": 1,
   "nav_menu": {},
   "number_sections": true,
   "sideBar": true,
   "skip_h1_title": true,
   "title_cell": "Table of Contents",
   "title_sidebar": "Contents",
   "toc_cell": false,
   "toc_position": {
    "height": "calc(100% - 180px)",
    "left": "10px",
    "top": "150px",
    "width": "165px"
   },
   "toc_section_display": true,
   "toc_window_display": true
  }
 },
 "nbformat": 4,
 "nbformat_minor": 2
}
